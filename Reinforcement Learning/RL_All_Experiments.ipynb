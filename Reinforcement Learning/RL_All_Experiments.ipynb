{
  "nbformat": 4,
  "nbformat_minor": 0,
  "metadata": {
    "colab": {
      "provenance": [],
      "collapsed_sections": [
        "ey9TlI-CrCWa"
      ]
    },
    "kernelspec": {
      "name": "python3",
      "display_name": "Python 3"
    },
    "language_info": {
      "name": "python"
    }
  },
  "cells": [
    {
      "cell_type": "markdown",
      "source": [
        "# Experiment 2 & 4 - Policy Iteration and Dynamic Programming"
      ],
      "metadata": {
        "id": "nuahiNV7oXfb"
      }
    },
    {
      "cell_type": "markdown",
      "source": [
        "Note : If we only print the `optimal policy` then this answers the `Policy Iteration` experiment . \n",
        "\n",
        "And if we print both the `optimal policy` and `value function`, this answers the `Dynamic Programming` experiment"
      ],
      "metadata": {
        "id": "1g6ecaX-n5wN"
      }
    },
    {
      "cell_type": "code",
      "execution_count": 5,
      "metadata": {
        "colab": {
          "base_uri": "https://localhost:8080/"
        },
        "id": "jiiX0Z9IGzhZ",
        "outputId": "99ea4845-ceb0-4655-8437-7cfe24f0e528"
      },
      "outputs": [
        {
          "output_type": "stream",
          "name": "stdout",
          "text": [
            "(16,)\n",
            "(16,)\n",
            "[[1. 0. 0. 0.]\n",
            " [0. 0. 0. 1.]\n",
            " [1. 0. 0. 0.]\n",
            " [0. 0. 0. 1.]\n",
            " [1. 0. 0. 0.]\n",
            " [1. 0. 0. 0.]\n",
            " [1. 0. 0. 0.]\n",
            " [1. 0. 0. 0.]\n",
            " [0. 0. 0. 1.]\n",
            " [0. 1. 0. 0.]\n",
            " [1. 0. 0. 0.]\n",
            " [1. 0. 0. 0.]\n",
            " [1. 0. 0. 0.]\n",
            " [0. 0. 1. 0.]\n",
            " [0. 1. 0. 0.]\n",
            " [1. 0. 0. 0.]]\n",
            "[0.06889086 0.06141454 0.07440974 0.0558073  0.0918545  0.\n",
            " 0.1122082  0.         0.14543633 0.24749694 0.29961758 0.\n",
            " 0.         0.37993589 0.63902014 0.        ]\n"
          ]
        },
        {
          "output_type": "stream",
          "name": "stderr",
          "text": [
            "/usr/local/lib/python3.10/dist-packages/ipykernel/ipkernel.py:283: DeprecationWarning: `should_run_async` will not call `transform_cell` automatically in the future. Please pass the result to `transformed_cell` argument and any exception that happen during thetransform in `preprocessing_exc_tuple` in IPython 7.17 and above.\n",
            "  and should_run_async(code)\n"
          ]
        }
      ],
      "source": [
        "import gym\n",
        "import numpy as np\n",
        "\n",
        "# create the environment\n",
        "env = gym.make('FrozenLake-v1',new_step_api=True)\n",
        "\n",
        "# set the discount factor\n",
        "gamma = 0.9\n",
        "\n",
        "# initialize the policy to a uniform distribution over actions for each state\n",
        "num_states = env.observation_space.n\n",
        "num_actions = env.action_space.n\n",
        "policy = np.ones((num_states, num_actions)) / num_actions\n",
        "\n",
        "# define the policy evaluation function\n",
        "def policy_evaluation(policy, env, gamma, theta):\n",
        "    # initialize the value function to zero for all states\n",
        "    V = np.zeros(num_states)\n",
        "  \n",
        "    while True:\n",
        "        delta = 0\n",
        "        # for each state, update the value function\n",
        "        for s in range(num_states):\n",
        "            v = V[s]\n",
        "            # calculate the value of each action in the current state\n",
        "            q = np.zeros(num_actions)  \n",
        "            for a in range(num_actions):\n",
        "                for prob, next_state, reward, done in env.P[s][a]:\n",
        "                    q[a] += prob * (reward + gamma * V[next_state])\n",
        "            # update the value of the current state\n",
        "            V[s] = np.dot(policy[s], q)\n",
        "            # calculate the maximum change in the value function\n",
        "            delta = max(delta, abs(v - V[s]))\n",
        "        # check if the maximum change is below the threshold\n",
        "        if delta < theta:\n",
        "            break\n",
        "    return V\n",
        "\n",
        "# define the policy improvement function\n",
        "def policy_improvement(policy, env, gamma, V):\n",
        "    # initialize the policy to be greedy with respect to the current value function\n",
        "    new_policy = np.zeros((num_states, num_actions))\n",
        "    for s in range(num_states):\n",
        "        # calculate the value of each action in the current state\n",
        "        q = np.zeros(num_actions)\n",
        "        for a in range(num_actions):\n",
        "            for prob, next_state, reward, done in env.P[s][a]:\n",
        "                q[a] += prob * (reward + gamma * V[next_state])\n",
        "        # update the policy to choose the action with the highest value\n",
        "        best_action = np.argmax(q)\n",
        "        new_policy[s][best_action] = 1\n",
        "    return new_policy\n",
        "\n",
        "# perform policy iteration\n",
        "theta = 1e-8  # threshold for convergence\n",
        "while True:\n",
        "    # evaluate the current policy\n",
        "    V = policy_evaluation(policy, env, gamma, theta)\n",
        "    # improve the policy\n",
        "    new_policy = policy_improvement(policy, env, gamma, V)\n",
        "    # check if the policy has converged\n",
        "    if np.array_equal(policy, new_policy):\n",
        "        break\n",
        "    policy = new_policy\n",
        "\n",
        "# print the final policy\n",
        "print(policy)\n",
        "# print the value function\n",
        "print(V)"
      ]
    },
    {
      "cell_type": "markdown",
      "source": [
        "# Exp 3 - Implement Markov Decision Process\n"
      ],
      "metadata": {
        "id": "EE84Qzz9u26E"
      }
    },
    {
      "cell_type": "code",
      "source": [
        "import numpy as np\n",
        "import gym\n",
        "\n",
        "num_states = env.observation_space.n\n",
        "num_actions = env.action_space.n\n",
        "# policy = np.ones((num_states, num_actions)) / num_actions\n",
        "def value_iteration(env, theta=0.0001, gamma=0.9):\n",
        "    # Initialize the value function to zero\n",
        "    V = np.zeros(num_states)\n",
        "    \n",
        "    # Loop until convergence\n",
        "    while True:\n",
        "        delta = 0\n",
        "        \n",
        "        # For each state s\n",
        "        for s in range(num_states):\n",
        "            v = V[s]\n",
        "            \n",
        "            # Compute the new value for the state s\n",
        "            q = np.zeros(num_actions)\n",
        "            for a in range(num_actions):\n",
        "                for prob, next_state, reward, done in env.P[s][a]:\n",
        "                    q[a] += prob * (reward + gamma * V[next_state])\n",
        "            \n",
        "            V[s] = np.max(q)\n",
        "            delta = max(delta, np.abs(v - V[s]))\n",
        "        \n",
        "        # Check for convergence\n",
        "        if delta < theta:\n",
        "            break\n",
        "    \n",
        "    # Compute the optimal policy\n",
        "    policy = np.zeros((num_states, num_actions))\n",
        "    for s in range(num_states):\n",
        "        q = np.zeros(num_actions)\n",
        "        for a in range(num_actions):\n",
        "            for prob, next_state, reward, done in env.P[s][a]:\n",
        "                q[a] += prob * (reward + gamma * V[next_state])\n",
        "        best_action = np.argmax(q)\n",
        "        policy[s, best_action] = 1\n",
        "    \n",
        "    return V, policy\n",
        "\n",
        "env = gym.make('FrozenLake-v1', new_step_api = True)\n",
        "V, policy = value_iteration(env)\n",
        "print(V)\n",
        "print(policy)"
      ],
      "metadata": {
        "colab": {
          "base_uri": "https://localhost:8080/"
        },
        "id": "jyUk_5BxyhFN",
        "outputId": "a760bcff-ec61-4df8-8921-b94e2affaae9"
      },
      "execution_count": 19,
      "outputs": [
        {
          "output_type": "stream",
          "name": "stdout",
          "text": [
            "[0.06848032 0.06111567 0.07422254 0.05560469 0.09153995 0.\n",
            " 0.11212558 0.         0.14522151 0.24737863 0.29954442 0.\n",
            " 0.         0.37986011 0.63898452 0.        ]\n",
            "[[1. 0. 0. 0.]\n",
            " [0. 0. 0. 1.]\n",
            " [1. 0. 0. 0.]\n",
            " [0. 0. 0. 1.]\n",
            " [1. 0. 0. 0.]\n",
            " [1. 0. 0. 0.]\n",
            " [1. 0. 0. 0.]\n",
            " [1. 0. 0. 0.]\n",
            " [0. 0. 0. 1.]\n",
            " [0. 1. 0. 0.]\n",
            " [1. 0. 0. 0.]\n",
            " [1. 0. 0. 0.]\n",
            " [1. 0. 0. 0.]\n",
            " [0. 0. 1. 0.]\n",
            " [0. 1. 0. 0.]\n",
            " [1. 0. 0. 0.]]\n"
          ]
        },
        {
          "output_type": "stream",
          "name": "stderr",
          "text": [
            "/usr/local/lib/python3.10/dist-packages/ipykernel/ipkernel.py:283: DeprecationWarning: `should_run_async` will not call `transform_cell` automatically in the future. Please pass the result to `transformed_cell` argument and any exception that happen during thetransform in `preprocessing_exc_tuple` in IPython 7.17 and above.\n",
            "  and should_run_async(code)\n"
          ]
        }
      ]
    },
    {
      "cell_type": "code",
      "source": [
        "V.shape"
      ],
      "metadata": {
        "colab": {
          "base_uri": "https://localhost:8080/"
        },
        "id": "DhJxnBpgzGYl",
        "outputId": "17a41675-6003-414b-aaa0-7bfc567d4c74"
      },
      "execution_count": 18,
      "outputs": [
        {
          "output_type": "stream",
          "name": "stderr",
          "text": [
            "/usr/local/lib/python3.10/dist-packages/ipykernel/ipkernel.py:283: DeprecationWarning: `should_run_async` will not call `transform_cell` automatically in the future. Please pass the result to `transformed_cell` argument and any exception that happen during thetransform in `preprocessing_exc_tuple` in IPython 7.17 and above.\n",
            "  and should_run_async(code)\n"
          ]
        },
        {
          "output_type": "execute_result",
          "data": {
            "text/plain": [
              "(16,)"
            ]
          },
          "metadata": {},
          "execution_count": 18
        }
      ]
    },
    {
      "cell_type": "markdown",
      "source": [
        "# Exp 5 - Q - Learning Algorithm"
      ],
      "metadata": {
        "id": "pZP2zpGsemNU"
      }
    },
    {
      "cell_type": "code",
      "source": [
        "import gym\n",
        "import numpy as np\n",
        "\n",
        "# Create the FrozenLake environment\n",
        "env = gym.make('FrozenLake-v1')\n",
        "\n",
        "# Define the Q-value function as a matrix with size (num_states, num_actions)\n",
        "num_states = env.observation_space.n\n",
        "num_actions = env.action_space.n\n",
        "Q = np.zeros((num_states, num_actions))\n",
        "\n",
        "\n",
        "# Define the parameters of the Q-learning algorithm\n",
        "alpha = 0.8  # learning rate\n",
        "gamma = 0.7  # discount factor\n",
        "epsilon = 0.2  # exploration probability\n",
        "\n",
        "explo = 0\n",
        "explt = 0\n",
        "\n",
        "# Define a function to select an action based on the Q-value function and exploration-exploitation strategy\n",
        "def select_action(state):\n",
        "    if np.random.rand() < epsilon:\n",
        "        global explo\n",
        "        explo += 1\n",
        "        return env.action_space.sample()  # explore - a random action is chosen\n",
        "    else:\n",
        "        global explt\n",
        "        explt += 1\n",
        "        return np.argmax(Q[state])  # exploit - action with the highest Q-value in the current state is chosen\n",
        "\n",
        "# Define the main loop of the Q-learning algorithm\n",
        "num_episodes = 10000\n",
        "for episode in range(num_episodes):\n",
        "    state = env.reset()\n",
        "    done = False\n",
        "    while not done:\n",
        "        action = select_action(state)\n",
        "        next_state, reward, done, info = env.step(action)\n",
        "        Q[state, action] += alpha * (reward + gamma * np.max(Q[next_state]) - Q[state, action])  # update the Q-value function\n",
        "        state = next_state\n",
        "\n",
        "# Print the learned Q-value function and optimal policy\n",
        "print(f\"Exploration: {explo}\")\n",
        "print(f\"Exploitation: {explt}\")\n",
        "print(\"Q-value function:\")\n",
        "print(Q)\n",
        "optimal_policy = np.argmax(Q, axis=1)\n",
        "print(\"\\nOptimal policy:\")\n",
        "print(optimal_policy.reshape((4,4)))\n"
      ],
      "metadata": {
        "colab": {
          "base_uri": "https://localhost:8080/"
        },
        "id": "2fcvBvOgexUE",
        "outputId": "174e33db-cd8c-43fb-d9e7-6ba2133779d0"
      },
      "execution_count": 8,
      "outputs": [
        {
          "output_type": "stream",
          "name": "stdout",
          "text": [
            "[[0. 0. 0. 0.]\n",
            " [0. 0. 0. 0.]\n",
            " [0. 0. 0. 0.]\n",
            " [0. 0. 0. 0.]\n",
            " [0. 0. 0. 0.]\n",
            " [0. 0. 0. 0.]\n",
            " [0. 0. 0. 0.]\n",
            " [0. 0. 0. 0.]\n",
            " [0. 0. 0. 0.]\n",
            " [0. 0. 0. 0.]\n",
            " [0. 0. 0. 0.]\n",
            " [0. 0. 0. 0.]\n",
            " [0. 0. 0. 0.]\n",
            " [0. 0. 0. 0.]\n",
            " [0. 0. 0. 0.]\n",
            " [0. 0. 0. 0.]]\n",
            "Exploration: 23635\n",
            "Exploitation: 94305\n",
            "Q-value function:\n",
            "[[1.88624562e-04 8.05946586e-05 9.15627970e-05 2.00052179e-04]\n",
            " [5.99210641e-05 2.69268163e-04 3.29664504e-04 1.54942093e-04]\n",
            " [2.73714751e-04 3.00336048e-04 8.77229575e-03 2.94591088e-04]\n",
            " [6.07419982e-06 3.80499444e-04 9.42439263e-05 8.21875857e-04]\n",
            " [1.61126843e-04 2.59795286e-04 4.44321761e-04 1.95897742e-04]\n",
            " [0.00000000e+00 0.00000000e+00 0.00000000e+00 0.00000000e+00]\n",
            " [3.10004235e-03 1.65295222e-04 7.97674621e-05 3.21918023e-05]\n",
            " [0.00000000e+00 0.00000000e+00 0.00000000e+00 0.00000000e+00]\n",
            " [4.88305201e-04 8.21775624e-06 2.31510271e-05 4.38130409e-04]\n",
            " [1.70749419e-02 9.70738590e-02 1.03774512e-02 1.39686736e-02]\n",
            " [3.09662458e-03 4.91901259e-02 6.97762023e-02 2.50989390e-05]\n",
            " [0.00000000e+00 0.00000000e+00 0.00000000e+00 0.00000000e+00]\n",
            " [0.00000000e+00 0.00000000e+00 0.00000000e+00 0.00000000e+00]\n",
            " [8.47805122e-03 3.28061304e-03 3.50264994e-02 2.71622821e-04]\n",
            " [1.86987155e-01 7.15121670e-02 8.26328606e-01 1.31139541e-01]\n",
            " [0.00000000e+00 0.00000000e+00 0.00000000e+00 0.00000000e+00]]\n",
            "\n",
            "Optimal policy:\n",
            "[[3 2 2 3]\n",
            " [2 0 0 0]\n",
            " [0 1 2 0]\n",
            " [0 2 2 0]]\n"
          ]
        }
      ]
    },
    {
      "cell_type": "markdown",
      "source": [
        "# 6 - Bellman Equation"
      ],
      "metadata": {
        "id": "k4azpbXlsJmj"
      }
    },
    {
      "cell_type": "code",
      "source": [
        "import gym\n",
        "import numpy as np\n",
        "\n",
        "# Create the FrozenLake environment\n",
        "env = gym.make('FrozenLake-v1')\n",
        "\n",
        "# Define the value function as a vector with size (num_states)\n",
        "num_states = env.observation_space.n\n",
        "V = np.zeros(num_states)\n",
        "print(\"Initial Value Function\")\n",
        "print(V.reshape(4, 4))\n",
        "print()\n",
        "\n",
        "# Define the parameters of the value iteration algorithm\n",
        "gamma = 0.99  # discount factor\n",
        "epsilon = 1e-8  # convergence threshold\n",
        "num_iterations = 100000  # maximum number of iterations\n",
        "\n",
        "# Define a function to update the value of a state based on the Bellman equation\n",
        "def bellman_update(V, state, gamma):\n",
        "    action_values = np.zeros(env.action_space.n)\n",
        "    for action in range(env.action_space.n):\n",
        "        for prob, next_state, reward, done in env.P[state][action]:\n",
        "            action_values[action] += prob * (reward + gamma * V[next_state])\n",
        "    return np.max(action_values)\n",
        "\n",
        "# Run the value iteration algorithm\n",
        "for i in range(num_iterations):\n",
        "    delta = 0\n",
        "    for state in range(num_states):\n",
        "        v = V[state]\n",
        "        V[state] = bellman_update(V, state, gamma)\n",
        "        delta = max(delta, abs(v - V[state]))\n",
        "    if delta < epsilon:\n",
        "        break\n",
        "\n",
        "# Print the learned value function and optimal policy\n",
        "print(\"Value function:\")\n",
        "print(V.reshape(4, 4))\n",
        "optimal_policy = np.zeros(num_states, dtype=np.int)\n",
        "for state in range(num_states):\n",
        "    action_values = np.zeros(env.action_space.n)\n",
        "    for action in range(env.action_space.n):\n",
        "        for prob, next_state, reward, done in env.P[state][action]:\n",
        "            action_values[action] += prob * (reward + gamma * V[next_state])\n",
        "    optimal_policy[state] = np.argmax(action_values)\n",
        "print(\"\\nOptimal policy:\")\n",
        "print(optimal_policy.reshape((4, 4)))"
      ],
      "metadata": {
        "id": "at-s1H5t5exo"
      },
      "execution_count": null,
      "outputs": []
    },
    {
      "cell_type": "markdown",
      "source": [
        "# Monte Carlo"
      ],
      "metadata": {
        "id": "9j24wFIE3Nl0"
      }
    },
    {
      "cell_type": "code",
      "source": [
        "import gym\n",
        "import numpy as np\n",
        "\n",
        "# Create the FrozenLake environment\n",
        "env = gym.make('FrozenLake-v1')\n",
        "\n",
        "# Define the parameters of the Monte Carlo Control algorithm\n",
        "num_episodes = 10000\n",
        "gamma = 0.9  # discount factor\n",
        "\n",
        "# Define the Q-value function as a matrix with size (num_states, num_actions)\n",
        "num_states = env.observation_space.n\n",
        "num_actions = env.action_space.n\n",
        "Q = np.zeros((num_states, num_actions))\n",
        "\n",
        "# Define a dictionary to store the returns for each state-action pair\n",
        "returns = {}\n",
        "\n",
        "# Define a function to select an action based on the Q-value function and exploration-exploitation strategy\n",
        "def select_action(state, epsilon):\n",
        "    if np.random.rand() < epsilon:\n",
        "        return env.action_space.sample()  # explore\n",
        "    else:\n",
        "        return np.argmax(Q[state])  # exploit\n",
        "\n",
        "# Define the main loop of the Monte Carlo Control algorithm\n",
        "for episode in range(num_episodes):\n",
        "    # Initialize episode variables\n",
        "    state = env.reset()\n",
        "    done = False\n",
        "    episode_history = []\n",
        "\n",
        "    # Generate an episode by following the current policy\n",
        "    while not done:\n",
        "        action = select_action(state, epsilon=1/(episode+1))  # decaying epsilon-greedy exploration\n",
        "        next_state, reward, done, _ = env.step(action)\n",
        "        episode_history.append((state, action, reward))\n",
        "        state = next_state\n",
        "\n",
        "    # Update the Q-value function using the episode history\n",
        "    G = 0  # total discounted reward\n",
        "    for t in reversed(range(len(episode_history))):\n",
        "        state, action, reward = episode_history[t]\n",
        "        G = gamma * G + reward\n",
        "        state_action = (state, action)\n",
        "        if state_action not in [(x[0], x[1]) for x in episode_history[0:t]]:\n",
        "            if state_action not in returns:\n",
        "                returns[state_action] = [G]\n",
        "            else:\n",
        "                returns[state_action].append(G)\n",
        "            Q[state][action] = np.mean(returns[state_action])\n",
        "\n",
        "# Print the learned Q-value function and optimal policy\n",
        "print(\"Q-value function:\")\n",
        "print(Q)\n",
        "optimal_policy = np.argmax(Q, axis=1)\n",
        "print(\"\\nOptimal policy:\")\n",
        "print(optimal_policy.reshape((4,4)))\n"
      ],
      "metadata": {
        "id": "lfvsHEEz3PTb",
        "outputId": "6897c0aa-a5e9-4b5d-f61a-72ba05414c42",
        "colab": {
          "base_uri": "https://localhost:8080/"
        }
      },
      "execution_count": 16,
      "outputs": [
        {
          "output_type": "stream",
          "name": "stdout",
          "text": [
            "Q-value function:\n",
            "[[0. 0. 0. 0.]\n",
            " [0. 0. 0. 0.]\n",
            " [0. 0. 0. 0.]\n",
            " [0. 0. 0. 0.]\n",
            " [0. 0. 0. 0.]\n",
            " [0. 0. 0. 0.]\n",
            " [0. 0. 0. 0.]\n",
            " [0. 0. 0. 0.]\n",
            " [0. 0. 0. 0.]\n",
            " [0. 0. 0. 0.]\n",
            " [0. 0. 0. 0.]\n",
            " [0. 0. 0. 0.]\n",
            " [0. 0. 0. 0.]\n",
            " [0. 0. 0. 0.]\n",
            " [0. 0. 0. 0.]\n",
            " [0. 0. 0. 0.]]\n",
            "\n",
            "Optimal policy:\n",
            "[[0 0 0 0]\n",
            " [0 0 0 0]\n",
            " [0 0 0 0]\n",
            " [0 0 0 0]]\n"
          ]
        }
      ]
    },
    {
      "cell_type": "markdown",
      "source": [
        "# Ignore"
      ],
      "metadata": {
        "id": "ey9TlI-CrCWa"
      }
    },
    {
      "cell_type": "code",
      "source": [
        "1e-8"
      ],
      "metadata": {
        "colab": {
          "base_uri": "https://localhost:8080/"
        },
        "id": "ZhLKFi2Gm3cX",
        "outputId": "8b827b41-3385-41a5-c1f9-1df0ef8ea439"
      },
      "execution_count": 2,
      "outputs": [
        {
          "output_type": "stream",
          "name": "stderr",
          "text": [
            "/usr/local/lib/python3.10/dist-packages/ipykernel/ipkernel.py:283: DeprecationWarning: `should_run_async` will not call `transform_cell` automatically in the future. Please pass the result to `transformed_cell` argument and any exception that happen during thetransform in `preprocessing_exc_tuple` in IPython 7.17 and above.\n",
            "  and should_run_async(code)\n"
          ]
        },
        {
          "output_type": "execute_result",
          "data": {
            "text/plain": [
              "1e-08"
            ]
          },
          "metadata": {},
          "execution_count": 2
        }
      ]
    },
    {
      "cell_type": "code",
      "source": [
        "import gym\n",
        "import numpy as np\n",
        "import matplotlib.pyplot as plt\n",
        "\n",
        "# create the environment\n",
        "env = gym.make('FrozenLake-v1')\n",
        "\n",
        "# set the discount factor\n",
        "gamma = 0.9\n",
        "\n",
        "# initialize the value function to zero\n",
        "V = np.zeros(env.observation_space.n)\n",
        "\n",
        "# run the value iteration algorithm until convergence\n",
        "while True:\n",
        "    delta = 0\n",
        "    for s in range(env.observation_space.n):\n",
        "        v = V[s]\n",
        "        # compute the value of each action using the Bellman equation\n",
        "        action_values = np.zeros(env.action_space.n)\n",
        "        for a in range(env.action_space.n):\n",
        "            for prob, next_state, reward, done in env.P[s][a]:\n",
        "                action_values[a] += prob * (reward + gamma * V[next_state])\n",
        "        # update the value function using the maximum action value\n",
        "        V[s] = np.max(action_values)\n",
        "        delta = max(delta, np.abs(v - V[s]))\n",
        "    if delta < 1e-6:\n",
        "        break\n",
        "\n",
        "# compute the optimal policy\n",
        "policy = np.zeros((env.observation_space.n, env.action_space.n))\n",
        "for s in range(env.observation_space.n):\n",
        "    action_values = np.zeros(env.action_space.n)\n",
        "    for a in range(env.action_space.n):\n",
        "        for prob, next_state, reward, done in env.P[s][a]:\n",
        "            action_values[a] += prob * (reward + gamma * V[next_state])\n",
        "    # select the action with the highest expected value\n",
        "    best_action = np.argmax(action_values)\n",
        "    policy[s, best_action] = 1\n",
        "\n",
        "# visualize the value function\n",
        "plt.figure(figsize=(6, 6))\n",
        "plt.imshow(V.reshape(4, 4), cmap='cool', interpolation='none')\n",
        "plt.colorbar()\n",
        "plt.title('Value function')\n",
        "plt.show()\n",
        "\n",
        "# visualize the policy\n",
        "plt.figure(figsize=(6, 6))\n",
        "plt.imshow(policy[:, 1].reshape(4, 4), cmap='cool', interpolation='none')\n",
        "plt.colorbar()\n",
        "plt.title('Policy (0=left, 1=down, 2=right, 3=up)')\n",
        "plt.show()\n"
      ],
      "metadata": {
        "colab": {
          "base_uri": "https://localhost:8080/",
          "height": 1000
        },
        "id": "fhWdG0RpqIT2",
        "outputId": "19cab7da-b245-4e24-fbb5-803463157712"
      },
      "execution_count": 3,
      "outputs": [
        {
          "output_type": "stream",
          "name": "stderr",
          "text": [
            "/usr/local/lib/python3.10/dist-packages/gym/core.py:317: DeprecationWarning: \u001b[33mWARN: Initializing wrapper in old step API which returns one bool instead of two. It is recommended to set `new_step_api=True` to use new step API. This will be the default behaviour in future.\u001b[0m\n",
            "  deprecation(\n",
            "/usr/local/lib/python3.10/dist-packages/gym/wrappers/step_api_compatibility.py:39: DeprecationWarning: \u001b[33mWARN: Initializing environment in old step API which returns one bool instead of two. It is recommended to set `new_step_api=True` to use new step API. This will be the default behaviour in future.\u001b[0m\n",
            "  deprecation(\n"
          ]
        },
        {
          "output_type": "display_data",
          "data": {
            "text/plain": [
              "<Figure size 600x600 with 2 Axes>"
            ],
            "image/png": "[encoded data removed]"
          },
          "metadata": {}
        },
        {
          "output_type": "display_data",
          "data": {
            "text/plain": [
              "<Figure size 600x600 with 2 Axes>"
            ],
            "image/png": "[encoded data removed]"
          },
          "metadata": {}
        }
      ]
    },
    {
      "cell_type": "code",
      "source": [
        "print(policy)"
      ],
      "metadata": {
        "colab": {
          "base_uri": "https://localhost:8080/"
        },
        "id": "_rX2_MU5qcoF",
        "outputId": "e4be928c-69cc-435d-c042-86b1a3a1b74f"
      },
      "execution_count": 6,
      "outputs": [
        {
          "output_type": "stream",
          "name": "stdout",
          "text": [
            "[[1. 0. 0. 0.]\n",
            " [0. 0. 0. 1.]\n",
            " [1. 0. 0. 0.]\n",
            " [0. 0. 0. 1.]\n",
            " [1. 0. 0. 0.]\n",
            " [1. 0. 0. 0.]\n",
            " [1. 0. 0. 0.]\n",
            " [1. 0. 0. 0.]\n",
            " [0. 0. 0. 1.]\n",
            " [0. 1. 0. 0.]\n",
            " [1. 0. 0. 0.]\n",
            " [1. 0. 0. 0.]\n",
            " [1. 0. 0. 0.]\n",
            " [0. 0. 1. 0.]\n",
            " [0. 1. 0. 0.]\n",
            " [1. 0. 0. 0.]]\n"
          ]
        },
        {
          "output_type": "stream",
          "name": "stderr",
          "text": [
            "/usr/local/lib/python3.10/dist-packages/ipykernel/ipkernel.py:283: DeprecationWarning: `should_run_async` will not call `transform_cell` automatically in the future. Please pass the result to `transformed_cell` argument and any exception that happen during thetransform in `preprocessing_exc_tuple` in IPython 7.17 and above.\n",
            "  and should_run_async(code)\n"
          ]
        }
      ]
    },
    {
      "cell_type": "code",
      "source": [
        "import gym\n",
        "import numpy as np\n",
        "import time\n",
        "from pyvirtualdisplay import Display\n",
        "\n",
        "# create a virtual display to render the environment\n",
        "display = Display(visible=0, size=(1400, 900), xvfb_path='/usr/bin/Xvfb')\n",
        "display.start()\n",
        "# create the environment\n",
        "env = gym.make('FrozenLake-v1')\n",
        "\n",
        "# set the discount factor\n",
        "gamma = 0.9\n",
        "\n",
        "# initialize the policy to a uniform distribution over actions for each state\n",
        "num_states = env.observation_space.n\n",
        "num_actions = env.action_space.n\n",
        "policy = np.ones((num_states, num_actions)) / num_actions\n",
        "\n",
        "# run policy iteration until convergence\n",
        "while True:\n",
        "    # evaluate the current policy by computing the value function\n",
        "    V = np.zeros(num_states)\n",
        "    for i in range(1000):\n",
        "        for s in range(num_states):\n",
        "            action = np.random.choice(num_actions, p=policy[s])\n",
        "            observation, reward, done, info = env.step(action)\n",
        "            V[s] += reward + gamma * V[observation]\n",
        "            if done:\n",
        "                env.reset()\n",
        "\n",
        "    # improve the policy using the value function\n",
        "    new_policy = np.zeros((num_states, num_actions))\n",
        "    for s in range(num_states):\n",
        "        action_values = np.zeros(num_actions)\n",
        "        for a in range(num_actions):\n",
        "            for prob, next_state, reward, done in env.P[s][a]:\n",
        "                action_values[a] += prob * (reward + gamma * V[next_state])\n",
        "        best_action = np.argmax(action_values)\n",
        "        new_policy[s, best_action] = 1\n",
        "    if np.all(policy == new_policy):\n",
        "        break\n",
        "    policy = new_policy\n",
        "\n",
        "# run the policy in the environment\n",
        "env.reset()\n",
        "for t in range(100):\n",
        "    time.sleep(0.5)  # wait half a second before rendering the environment\n",
        "    action = np.argmax(policy[env.env.s])\n",
        "    observation, reward, done, info = env.step(action)\n",
        "    env.render()\n",
        "    if done:\n",
        "        break\n",
        "env.close()\n",
        "\n",
        "# stop the virtual display\n",
        "display.stop()\n"
      ],
      "metadata": {
        "colab": {
          "base_uri": "https://localhost:8080/",
          "height": 387
        },
        "id": "y_mAH-mcrdJu",
        "outputId": "3ffce1ba-707e-4555-f844-42d3a8f6cea4"
      },
      "execution_count": 13,
      "outputs": [
        {
          "output_type": "error",
          "ename": "TypeError",
          "evalue": "ignored",
          "traceback": [
            "\u001b[0;31m---------------------------------------------------------------------------\u001b[0m",
            "\u001b[0;31mTypeError\u001b[0m                                 Traceback (most recent call last)",
            "\u001b[0;32m<ipython-input-13-6d24081e6525>\u001b[0m in \u001b[0;36m<cell line: 7>\u001b[0;34m()\u001b[0m\n\u001b[1;32m      5\u001b[0m \u001b[0;34m\u001b[0m\u001b[0m\n\u001b[1;32m      6\u001b[0m \u001b[0;31m# create a virtual display to render the environment\u001b[0m\u001b[0;34m\u001b[0m\u001b[0;34m\u001b[0m\u001b[0m\n\u001b[0;32m----> 7\u001b[0;31m \u001b[0mdisplay\u001b[0m \u001b[0;34m=\u001b[0m \u001b[0mDisplay\u001b[0m\u001b[0;34m(\u001b[0m\u001b[0mvisible\u001b[0m\u001b[0;34m=\u001b[0m\u001b[0;36m0\u001b[0m\u001b[0;34m,\u001b[0m \u001b[0msize\u001b[0m\u001b[0;34m=\u001b[0m\u001b[0;34m(\u001b[0m\u001b[0;36m1400\u001b[0m\u001b[0;34m,\u001b[0m \u001b[0;36m900\u001b[0m\u001b[0;34m)\u001b[0m\u001b[0;34m,\u001b[0m \u001b[0mxvfb_path\u001b[0m\u001b[0;34m=\u001b[0m\u001b[0;34m'/usr/bin/Xvfb'\u001b[0m\u001b[0;34m)\u001b[0m\u001b[0;34m\u001b[0m\u001b[0;34m\u001b[0m\u001b[0m\n\u001b[0m\u001b[1;32m      8\u001b[0m \u001b[0mdisplay\u001b[0m\u001b[0;34m.\u001b[0m\u001b[0mstart\u001b[0m\u001b[0;34m(\u001b[0m\u001b[0;34m)\u001b[0m\u001b[0;34m\u001b[0m\u001b[0;34m\u001b[0m\u001b[0m\n\u001b[1;32m      9\u001b[0m \u001b[0;31m# create the environment\u001b[0m\u001b[0;34m\u001b[0m\u001b[0;34m\u001b[0m\u001b[0m\n",
            "\u001b[0;32m/usr/local/lib/python3.10/dist-packages/pyvirtualdisplay/display.py\u001b[0m in \u001b[0;36m__init__\u001b[0;34m(self, backend, visible, size, color_depth, bgcolor, use_xauth, retries, extra_args, manage_global_env, **kwargs)\u001b[0m\n\u001b[1;32m     52\u001b[0m             \u001b[0;32mraise\u001b[0m \u001b[0mValueError\u001b[0m\u001b[0;34m(\u001b[0m\u001b[0;34m\"unknown backend: %s\"\u001b[0m \u001b[0;34m%\u001b[0m \u001b[0mself\u001b[0m\u001b[0;34m.\u001b[0m\u001b[0m_backend\u001b[0m\u001b[0;34m)\u001b[0m\u001b[0;34m\u001b[0m\u001b[0;34m\u001b[0m\u001b[0m\n\u001b[1;32m     53\u001b[0m \u001b[0;34m\u001b[0m\u001b[0m\n\u001b[0;32m---> 54\u001b[0;31m         self._obj = cls(\n\u001b[0m\u001b[1;32m     55\u001b[0m             \u001b[0msize\u001b[0m\u001b[0;34m=\u001b[0m\u001b[0msize\u001b[0m\u001b[0;34m,\u001b[0m\u001b[0;34m\u001b[0m\u001b[0;34m\u001b[0m\u001b[0m\n\u001b[1;32m     56\u001b[0m             \u001b[0mcolor_depth\u001b[0m\u001b[0;34m=\u001b[0m\u001b[0mcolor_depth\u001b[0m\u001b[0;34m,\u001b[0m\u001b[0;34m\u001b[0m\u001b[0;34m\u001b[0m\u001b[0m\n",
            "\u001b[0;31mTypeError\u001b[0m: XvfbDisplay.__init__() got an unexpected keyword argument 'xvfb_path'"
          ]
        }
      ]
    },
    {
      "cell_type": "code",
      "source": [
        "!pip install pyvirtualdisplay"
      ],
      "metadata": {
        "colab": {
          "base_uri": "https://localhost:8080/"
        },
        "id": "rQ1ZNGa4sFPR",
        "outputId": "17b0129f-8b75-4f1b-f8e2-4093c8ad16fa"
      },
      "execution_count": 10,
      "outputs": [
        {
          "output_type": "stream",
          "name": "stderr",
          "text": [
            "/usr/local/lib/python3.10/dist-packages/ipykernel/ipkernel.py:283: DeprecationWarning: `should_run_async` will not call `transform_cell` automatically in the future. Please pass the result to `transformed_cell` argument and any exception that happen during thetransform in `preprocessing_exc_tuple` in IPython 7.17 and above.\n",
            "  and should_run_async(code)\n"
          ]
        },
        {
          "output_type": "stream",
          "name": "stdout",
          "text": [
            "Looking in indexes: https://pypi.org/simple, https://us-python.pkg.dev/colab-wheels/public/simple/\n",
            "Collecting pyvirtualdisplay\n",
            "  Downloading PyVirtualDisplay-3.0-py3-none-any.whl (15 kB)\n",
            "Installing collected packages: pyvirtualdisplay\n",
            "Successfully installed pyvirtualdisplay-3.0\n"
          ]
        }
      ]
    },
    {
      "cell_type": "code",
      "source": [
        "!sudo apt-get install xvfb"
      ],
      "metadata": {
        "colab": {
          "base_uri": "https://localhost:8080/"
        },
        "id": "LBtVAnAKsYON",
        "outputId": "fda6a4ba-6286-4de0-dc89-29d6eaff3bf8"
      },
      "execution_count": 12,
      "outputs": [
        {
          "output_type": "stream",
          "name": "stdout",
          "text": [
            "Reading package lists... Done\n",
            "Building dependency tree       \n",
            "Reading state information... Done\n",
            "The following additional packages will be installed:\n",
            "  libfontenc1 libxfont2 libxkbfile1 x11-xkb-utils xfonts-base xfonts-encodings\n",
            "  xfonts-utils xserver-common\n",
            "The following NEW packages will be installed:\n",
            "  libfontenc1 libxfont2 libxkbfile1 x11-xkb-utils xfonts-base xfonts-encodings\n",
            "  xfonts-utils xserver-common xvfb\n",
            "0 upgraded, 9 newly installed, 0 to remove and 24 not upgraded.\n",
            "Need to get 7,697 kB of archives.\n",
            "After this operation, 11.9 MB of additional disk space will be used.\n",
            "Get:1 http://archive.ubuntu.com/ubuntu focal/main amd64 libfontenc1 amd64 1:1.1.4-0ubuntu1 [14.0 kB]\n",
            "Get:2 http://archive.ubuntu.com/ubuntu focal/main amd64 libxfont2 amd64 1:2.0.3-1 [91.7 kB]\n",
            "Get:3 http://archive.ubuntu.com/ubuntu focal/main amd64 libxkbfile1 amd64 1:1.1.0-1 [65.3 kB]\n",
            "Get:4 http://archive.ubuntu.com/ubuntu focal/main amd64 x11-xkb-utils amd64 7.7+5 [158 kB]\n",
            "Get:5 http://archive.ubuntu.com/ubuntu focal/main amd64 xfonts-encodings all 1:1.0.5-0ubuntu1 [573 kB]\n",
            "Get:6 http://archive.ubuntu.com/ubuntu focal/main amd64 xfonts-utils amd64 1:7.7+6 [91.5 kB]\n",
            "Get:7 http://archive.ubuntu.com/ubuntu focal/main amd64 xfonts-base all 1:1.0.5 [5,896 kB]\n",
            "Get:8 http://archive.ubuntu.com/ubuntu focal-updates/main amd64 xserver-common all 2:1.20.13-1ubuntu1~20.04.8 [27.2 kB]\n",
            "Get:9 http://archive.ubuntu.com/ubuntu focal-updates/universe amd64 xvfb amd64 2:1.20.13-1ubuntu1~20.04.8 [780 kB]\n",
            "Fetched 7,697 kB in 0s (30.7 MB/s)\n",
            "debconf: unable to initialize frontend: Dialog\n",
            "debconf: (No usable dialog-like program is installed, so the dialog based frontend cannot be used. at /usr/share/perl5/Debconf/FrontEnd/Dialog.pm line 76, <> line 9.)\n",
            "debconf: falling back to frontend: Readline\n",
            "debconf: unable to initialize frontend: Readline\n",
            "debconf: (This frontend requires a controlling tty.)\n",
            "debconf: falling back to frontend: Teletype\n",
            "dpkg-preconfigure: unable to re-open stdin: \n",
            "Selecting previously unselected package libfontenc1:amd64.\n",
            "(Reading database ... 122518 files and directories currently installed.)\n",
            "Preparing to unpack .../0-libfontenc1_1%3a1.1.4-0ubuntu1_amd64.deb ...\n",
            "Unpacking libfontenc1:amd64 (1:1.1.4-0ubuntu1) ...\n",
            "Selecting previously unselected package libxfont2:amd64.\n",
            "Preparing to unpack .../1-libxfont2_1%3a2.0.3-1_amd64.deb ...\n",
            "Unpacking libxfont2:amd64 (1:2.0.3-1) ...\n",
            "Selecting previously unselected package libxkbfile1:amd64.\n",
            "Preparing to unpack .../2-libxkbfile1_1%3a1.1.0-1_amd64.deb ...\n",
            "Unpacking libxkbfile1:amd64 (1:1.1.0-1) ...\n",
            "Selecting previously unselected package x11-xkb-utils.\n",
            "Preparing to unpack .../3-x11-xkb-utils_7.7+5_amd64.deb ...\n",
            "Unpacking x11-xkb-utils (7.7+5) ...\n",
            "Selecting previously unselected package xfonts-encodings.\n",
            "Preparing to unpack .../4-xfonts-encodings_1%3a1.0.5-0ubuntu1_all.deb ...\n",
            "Unpacking xfonts-encodings (1:1.0.5-0ubuntu1) ...\n",
            "Selecting previously unselected package xfonts-utils.\n",
            "Preparing to unpack .../5-xfonts-utils_1%3a7.7+6_amd64.deb ...\n",
            "Unpacking xfonts-utils (1:7.7+6) ...\n",
            "Selecting previously unselected package xfonts-base.\n",
            "Preparing to unpack .../6-xfonts-base_1%3a1.0.5_all.deb ...\n",
            "Unpacking xfonts-base (1:1.0.5) ...\n",
            "Selecting previously unselected package xserver-common.\n",
            "Preparing to unpack .../7-xserver-common_2%3a1.20.13-1ubuntu1~20.04.8_all.deb ...\n",
            "Unpacking xserver-common (2:1.20.13-1ubuntu1~20.04.8) ...\n",
            "Selecting previously unselected package xvfb.\n",
            "Preparing to unpack .../8-xvfb_2%3a1.20.13-1ubuntu1~20.04.8_amd64.deb ...\n",
            "Unpacking xvfb (2:1.20.13-1ubuntu1~20.04.8) ...\n",
            "Setting up libfontenc1:amd64 (1:1.1.4-0ubuntu1) ...\n",
            "Setting up xfonts-encodings (1:1.0.5-0ubuntu1) ...\n",
            "Setting up libxkbfile1:amd64 (1:1.1.0-1) ...\n",
            "Setting up libxfont2:amd64 (1:2.0.3-1) ...\n",
            "Setting up x11-xkb-utils (7.7+5) ...\n",
            "Setting up xfonts-utils (1:7.7+6) ...\n",
            "Setting up xfonts-base (1:1.0.5) ...\n",
            "Setting up xserver-common (2:1.20.13-1ubuntu1~20.04.8) ...\n",
            "Setting up xvfb (2:1.20.13-1ubuntu1~20.04.8) ...\n",
            "Processing triggers for man-db (2.9.1-1) ...\n",
            "Processing triggers for fontconfig (2.13.1-2ubuntu3) ...\n",
            "Processing triggers for libc-bin (2.31-0ubuntu9.9) ...\n"
          ]
        }
      ]
    }
  ]
}