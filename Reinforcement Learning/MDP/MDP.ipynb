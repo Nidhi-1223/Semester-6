{
 "cells": [
  {
   "cell_type": "code",
   "execution_count": 1,
   "id": "4a0ed0ea",
   "metadata": {},
   "outputs": [],
   "source": [
    "import numpy as np"
   ]
  },
  {
   "cell_type": "code",
   "execution_count": 2,
   "id": "10ca3cff",
   "metadata": {},
   "outputs": [
    {
     "data": {
      "text/plain": [
       "[0, 1, 2, 3]"
      ]
     },
     "execution_count": 2,
     "metadata": {},
     "output_type": "execute_result"
    }
   ],
   "source": [
    "# Define the states\n",
    "states = [0, 1, 2, 3]\n",
    "states"
   ]
  },
  {
   "cell_type": "code",
   "execution_count": 3,
   "id": "2788674c",
   "metadata": {},
   "outputs": [
    {
     "data": {
      "text/plain": [
       "[0, 1]"
      ]
     },
     "execution_count": 3,
     "metadata": {},
     "output_type": "execute_result"
    }
   ],
   "source": [
    "# Define the actions\n",
    "actions = [0, 1]\n",
    "actions"
   ]
  },
  {
   "cell_type": "code",
   "execution_count": 4,
   "id": "408d68ae",
   "metadata": {},
   "outputs": [
    {
     "data": {
      "text/plain": [
       "array([[[0.5, 0.5, 0. , 0. ],\n",
       "        [0. , 1. , 0. , 0. ]],\n",
       "\n",
       "       [[0. , 0. , 0.5, 0.5],\n",
       "        [0. , 0. , 0. , 1. ]],\n",
       "\n",
       "       [[0. , 0. , 1. , 0. ],\n",
       "        [0. , 0. , 0.5, 0.5]],\n",
       "\n",
       "       [[0. , 0. , 0. , 1. ],\n",
       "        [0. , 0. , 0. , 1. ]]])"
      ]
     },
     "execution_count": 4,
     "metadata": {},
     "output_type": "execute_result"
    }
   ],
   "source": [
    "# Define the transition probabilities\n",
    "P = np.zeros((len(states), len(actions), len(states)))\n",
    "P[0, 0, :] = [0.5, 0.5, 0, 0]\n",
    "P[0, 1, :] = [0, 1, 0, 0]\n",
    "P[1, 0, :] = [0, 0, 0.5, 0.5]\n",
    "P[1, 1, :] = [0, 0, 0, 1]\n",
    "P[2, 0, :] = [0, 0, 1, 0]\n",
    "P[2, 1, :] = [0, 0, 0.5, 0.5]\n",
    "P[3, 0, :] = [0, 0, 0, 1]\n",
    "P[3, 1, :] = [0, 0, 0, 1]\n",
    "P"
   ]
  },
  {
   "cell_type": "code",
   "execution_count": 5,
   "id": "0188c39d",
   "metadata": {},
   "outputs": [
    {
     "data": {
      "text/plain": [
       "array([[  5.,  10.],\n",
       "       [ -1.,   2.],\n",
       "       [  2.,   4.],\n",
       "       [-10.,   1.]])"
      ]
     },
     "execution_count": 5,
     "metadata": {},
     "output_type": "execute_result"
    }
   ],
   "source": [
    "# Define the rewards\n",
    "R = np.zeros((len(states), len(actions)))\n",
    "R[0, 0] = 5\n",
    "R[0, 1] = 10\n",
    "R[1, 0] = -1\n",
    "R[1, 1] = 2\n",
    "R[2, 0] = 2\n",
    "R[2, 1] = 4\n",
    "R[3, 0] = -10\n",
    "R[3, 1] = 1\n",
    "R"
   ]
  },
  {
   "cell_type": "code",
   "execution_count": 6,
   "id": "b2d9836d",
   "metadata": {},
   "outputs": [],
   "source": [
    "# Define the discount factor\n",
    "gamma = 0.9"
   ]
  },
  {
   "cell_type": "code",
   "execution_count": 7,
   "id": "0ed2ddab",
   "metadata": {},
   "outputs": [
    {
     "data": {
      "text/plain": [
       "array([21.2492526 , 12.4992526 , 19.99906054,  9.99944467])"
      ]
     },
     "execution_count": 7,
     "metadata": {},
     "output_type": "execute_result"
    }
   ],
   "source": [
    "# Implement value iteration\n",
    "values = np.zeros(len(states))\n",
    "while True:\n",
    "    new_values = np.copy(values)\n",
    "    for i in range(len(states)):\n",
    "        for j in range(len(actions)):\n",
    "            new_values[i] = max(new_values[i], sum([p * (R[i, j] + gamma * values[k]) for k, p in enumerate(P[i, j, :])]))\n",
    "    if np.max(np.abs(values - new_values)) < 1e-4:\n",
    "        break\n",
    "    values = new_values\n",
    "values"
   ]
  },
  {
   "cell_type": "code",
   "execution_count": 8,
   "id": "71316134",
   "metadata": {},
   "outputs": [
    {
     "data": {
      "text/plain": [
       "array([[[0.5, 0.5, 0. , 0. ],\n",
       "        [0. , 1. , 0. , 0. ]],\n",
       "\n",
       "       [[0. , 0. , 0.5, 0.5],\n",
       "        [0. , 0. , 0. , 1. ]],\n",
       "\n",
       "       [[0. , 0. , 1. , 0. ],\n",
       "        [0. , 0. , 0.5, 0.5]],\n",
       "\n",
       "       [[0. , 0. , 0. , 1. ],\n",
       "        [0. , 0. , 0. , 1. ]]])"
      ]
     },
     "execution_count": 8,
     "metadata": {},
     "output_type": "execute_result"
    }
   ],
   "source": [
    "# Find the optimal policy\n",
    "policy = np.zeros(len(states), dtype=int)\n",
    "for i in range(len(states)):\n",
    "    max_value = -np.inf\n",
    "    for j in range(len(actions)):\n",
    "        value = sum([P * (R[i, j])])\n",
    "value"
   ]
  },
  {
   "cell_type": "code",
   "execution_count": null,
   "id": "50cb8b55",
   "metadata": {},
   "outputs": [],
   "source": []
  }
 ],
 "metadata": {
  "kernelspec": {
   "display_name": "Python 3 (ipykernel)",
   "language": "python",
   "name": "python3"
  },
  "language_info": {
   "codemirror_mode": {
    "name": "ipython",
    "version": 3
   },
   "file_extension": ".py",
   "mimetype": "text/x-python",
   "name": "python",
   "nbconvert_exporter": "python",
   "pygments_lexer": "ipython3",
   "version": "3.9.15"
  }
 },
 "nbformat": 4,
 "nbformat_minor": 5
}
