{
 "cells": [
  {
   "cell_type": "markdown",
   "id": "3e8e3246",
   "metadata": {},
   "source": [
    "### Importing Library"
   ]
  },
  {
   "cell_type": "code",
   "execution_count": 1,
   "id": "4636e348",
   "metadata": {},
   "outputs": [],
   "source": [
    "import numpy as np"
   ]
  },
  {
   "cell_type": "markdown",
   "id": "17a4e54c",
   "metadata": {},
   "source": [
    "### Single Layer Perceptron Definition"
   ]
  },
  {
   "cell_type": "code",
   "execution_count": 2,
   "id": "8ceb8a78",
   "metadata": {},
   "outputs": [],
   "source": [
    "class Perceptron:\n",
    "    def __init__(self, input_size, bias, learning_rate=0.1):\n",
    "        self.weights = np.zeros(input_size + 1) - bias # +1 for bias term\n",
    "        self.bias = bias\n",
    "        self.learning_rate = learning_rate\n",
    "\n",
    "    def predict(self, inputs):\n",
    "        # Compute the dot product between the inputs and weights\n",
    "        summation = np.dot(inputs, self.weights[1:]) + self.weights[0]\n",
    "        # Apply the step function (sign function) to the dot product\n",
    "        activation = np.where(summation >= 0, 1, 0)\n",
    "        return activation\n",
    "\n",
    "    def train(self, inputs, labels, epochs):\n",
    "        for epoch in range(epochs):\n",
    "            for i, x in enumerate(inputs):\n",
    "                # Predict the output for the current input\n",
    "                y = self.predict(x)\n",
    "                # Compute the error between the predicted output and the true label\n",
    "                error = labels[i] - y\n",
    "                # Update the weights using the perceptron learning rule\n",
    "                self.weights[1:] += self.learning_rate * error * x\n",
    "                self.weights[0] += self.learning_rate * error"
   ]
  },
  {
   "cell_type": "markdown",
   "id": "a006483b",
   "metadata": {},
   "source": [
    "### NAND Operation with the Perceptron"
   ]
  },
  {
   "cell_type": "code",
   "execution_count": 3,
   "id": "476537b5",
   "metadata": {},
   "outputs": [
    {
     "name": "stdout",
     "output_type": "stream",
     "text": [
      "Input: [0 0] Output: 1\n",
      "Input: [0 1] Output: 1\n",
      "Input: [1 0] Output: 1\n",
      "Input: [1 1] Output: 0\n"
     ]
    }
   ],
   "source": [
    "# Define the training inputs and labels\n",
    "inputs = np.array([[0,0], [0,1], [1,0], [1,1]])\n",
    "labels = np.array([1, 1, 1, 0])\n",
    "\n",
    "# Create a Perceptron object with 2 inputs and a learning rate of 0.1\n",
    "p = Perceptron(2, 10, 0.9)\n",
    "\n",
    "# Train the perceptron for 10 epochs\n",
    "p.train(inputs, labels, 10)\n",
    "\n",
    "# Test the perceptron on some new inputs\n",
    "test_inputs = np.array([[0,0], [0,1], [1,0], [1,1]])\n",
    "for i in range(len(test_inputs)):\n",
    "    print(\"Input:\", test_inputs[i], \"Output:\", p.predict(test_inputs[i]))"
   ]
  },
  {
   "cell_type": "code",
   "execution_count": null,
   "id": "d8dbda77",
   "metadata": {},
   "outputs": [],
   "source": []
  },
  {
   "cell_type": "code",
   "execution_count": null,
   "id": "6ad83895",
   "metadata": {},
   "outputs": [],
   "source": []
  }
 ],
 "metadata": {
  "kernelspec": {
   "display_name": "Python 3 (ipykernel)",
   "language": "python",
   "name": "python3"
  },
  "language_info": {
   "codemirror_mode": {
    "name": "ipython",
    "version": 3
   },
   "file_extension": ".py",
   "mimetype": "text/x-python",
   "name": "python",
   "nbconvert_exporter": "python",
   "pygments_lexer": "ipython3",
   "version": "3.9.15"
  }
 },
 "nbformat": 4,
 "nbformat_minor": 5
}
