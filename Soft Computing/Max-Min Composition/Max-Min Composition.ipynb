{
 "cells": [
  {
   "cell_type": "markdown",
   "id": "4a154949",
   "metadata": {},
   "source": [
    "### Importing Library"
   ]
  },
  {
   "cell_type": "code",
   "execution_count": 1,
   "id": "c34e21fe",
   "metadata": {},
   "outputs": [],
   "source": [
    "import numpy as np"
   ]
  },
  {
   "cell_type": "markdown",
   "id": "8c645a7d",
   "metadata": {},
   "source": [
    "### Max-Min Composition"
   ]
  },
  {
   "cell_type": "code",
   "execution_count": 2,
   "id": "577762f0",
   "metadata": {},
   "outputs": [],
   "source": [
    "def maxMin(X, y):\n",
    "    z = []\n",
    "    for x1 in X:\n",
    "        for y1 in y.T:\n",
    "            z.append(max(np.minimum(x1, y1)))\n",
    "    \n",
    "    return np.array(z).reshape((X.shape[0], y.shape[1]))"
   ]
  },
  {
   "cell_type": "code",
   "execution_count": 3,
   "id": "cc527670",
   "metadata": {},
   "outputs": [
    {
     "name": "stdout",
     "output_type": "stream",
     "text": [
      "R1:  [[0.6 0.3]\n",
      " [0.2 0.9]]\n",
      "R2:  [[1.  0.5 0.3]\n",
      " [0.8 0.4 0.7]]\n"
     ]
    }
   ],
   "source": [
    "r1 =np.array([[0.6, 0.3], [0.2, 0.9]])\n",
    "r2 =np.array([[1, 0.5, 0.3], [0.8, 0.4, 0.7]])\n",
    "\n",
    "print(\"R1: \", r1)\n",
    "print(\"R2: \", r2)"
   ]
  },
  {
   "cell_type": "code",
   "execution_count": 4,
   "id": "2b578091",
   "metadata": {},
   "outputs": [
    {
     "name": "stdout",
     "output_type": "stream",
     "text": [
      "Max-Min: \n",
      "[[0.6 0.5 0.3]\n",
      " [0.8 0.4 0.7]]\n",
      "\n"
     ]
    }
   ],
   "source": [
    "print(\"Max-Min: \\n\" + str(maxMin(r1, r2)) + \"\\n\")"
   ]
  },
  {
   "cell_type": "code",
   "execution_count": null,
   "id": "0d3faf80",
   "metadata": {},
   "outputs": [],
   "source": []
  }
 ],
 "metadata": {
  "kernelspec": {
   "display_name": "Python 3 (ipykernel)",
   "language": "python",
   "name": "python3"
  },
  "language_info": {
   "codemirror_mode": {
    "name": "ipython",
    "version": 3
   },
   "file_extension": ".py",
   "mimetype": "text/x-python",
   "name": "python",
   "nbconvert_exporter": "python",
   "pygments_lexer": "ipython3",
   "version": "3.9.15"
  }
 },
 "nbformat": 4,
 "nbformat_minor": 5
}
