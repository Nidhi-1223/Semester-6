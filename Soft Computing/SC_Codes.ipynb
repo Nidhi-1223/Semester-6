{
 "cells": [
  {
   "cell_type": "markdown",
   "metadata": {},
   "source": [
    "1. Study of Fuzzy Operations"
   ]
  },
  {
   "cell_type": "code",
   "execution_count": 4,
   "metadata": {},
   "outputs": [
    {
     "name": "stdout",
     "output_type": "stream",
     "text": [
      "{10, 11, 12, 13, 14, 15}\n",
      "{11, 12, 13}\n",
      "{14, 15}\n"
     ]
    }
   ],
   "source": [
    "A = {10,11,12,13}\n",
    "B = {11,12,13,14,15}\n",
    "\n",
    "# UNION\n",
    "Union = A.union(B)\n",
    "print(Union) #{10, 11, 12, 13, 14, 15}\n",
    "\n",
    "# INTERSECTION\n",
    "Intersection = A.intersection(B)\n",
    "print(Intersection) #{11, 12, 13}\n",
    "\n",
    "# COMPLEMENT\n",
    "Complement = B - A\n",
    "print(Complement) #{14, 15}\n",
    "\n",
    "# ALGEBRIC SUM\n",
    "A = {0.2/1 + 0.3/2 + 0.4/3 + 0.5/4}\n",
    "B = {0.1/1 + 0.2/2 + 0.2/3 + 0/4}\n",
    "µ(A+B) = µ(A) + µ(B) - (µ(A) * µ(B))\n",
    "Algebricsum = {0.3/1 + 0.5/2 + 0.6/3 + 0.5/4} - {0.02/1 + 0.06/2 + 0.08/3 + 0/4}\n",
    "Algebricsum = {0.28/1 + 0.44/2 + 0.52/3 + 0.5/4}\n",
    "\n",
    "# ALGEBRIC PRODUCT\n",
    "A = {0.2/1 + 0.3/2 + 0.4/3 + 0.5/4}\n",
    "B = {0.1/1 + 0.2/2 + 0.2/3 + 0/4}\n",
    "µ(A*B) = (µ(A) * µ(B))\n",
    "AlgebricProduct = {0.02/1 + 0.06/2 + 0.08/3 + 0/4}\n",
    "\n"
   ]
  },
  {
   "attachments": {},
   "cell_type": "markdown",
   "metadata": {},
   "source": [
    "2.Implementation of Fuzzy Relation (Max-Min Composition)"
   ]
  },
  {
   "cell_type": "code",
   "execution_count": 9,
   "metadata": {},
   "outputs": [
    {
     "name": "stdout",
     "output_type": "stream",
     "text": [
      "Max-Min Composition:\n",
      " [[0.5 0.3 0.3]\n",
      " [0.6 0.5 0.7]\n",
      " [0.8 0.5 0.5]]\n"
     ]
    }
   ],
   "source": [
    "import numpy as np\n",
    "A = [\n",
    "    [0.5, 0.2, 0.3],\n",
    "    [0.1, 0.7, 0.6],\n",
    "    [0.3, 0.5, 0.8]\n",
    "    ]\n",
    "\n",
    "B = [\n",
    "    [0.6, 0.3, 0.1],\n",
    "    [0.2, 0.5, 0.8],\n",
    "    [0.8, 0.1, 0.5]\n",
    "    ]\n",
    "\n",
    "A = np.array(A)\n",
    "B = np.array(B)\n",
    "\n",
    "T = np.zeros((len(A),len(B)))\n",
    "\n",
    "for i in range(len(A)):\n",
    "    for j in range(len(B)):\n",
    "        T[i,j] = np.max(np.minimum(A[i,:], B[:,j]))\n",
    "\n",
    "print(\"Max-Min Composition:\\n\",T)\n"
   ]
  },
  {
   "attachments": {},
   "cell_type": "markdown",
   "metadata": {},
   "source": [
    "3.Implementation of Simple Neural Network"
   ]
  },
  {
   "cell_type": "code",
   "execution_count": 10,
   "metadata": {},
   "outputs": [
    {
     "name": "stdout",
     "output_type": "stream",
     "text": [
      "The Final Output is 1\n"
     ]
    }
   ],
   "source": [
    "def threshold(x):\n",
    "    if x >= 0:\n",
    "        return 1\n",
    "    else:\n",
    "        return 0\n",
    "\n",
    "def mcCulloh_pitts(inputs,weights):\n",
    "    weighted_sum = sum([inputs[i]*weights[i] for i in range(len(inputs))])\n",
    "    output = threshold(weighted_sum)\n",
    "    return output\n",
    "\n",
    "inputs = [1,0,1]\n",
    "weights = [0.5,-0.5,0.5]\n",
    "output = mcCulloh_pitts(inputs,weights)\n",
    "print(\"The Final Output is {}\".format(output))"
   ]
  },
  {
   "attachments": {},
   "cell_type": "markdown",
   "metadata": {},
   "source": [
    "4.Implement Single Layer Perceptron"
   ]
  },
  {
   "cell_type": "code",
   "execution_count": 15,
   "metadata": {},
   "outputs": [
    {
     "name": "stdout",
     "output_type": "stream",
     "text": [
      "[0 0 0 1]\n",
      "0 AND 0 = [0]\n",
      "0 AND 1 = [0]\n",
      "1 AND 0 = [0]\n",
      "1 AND 1 = [1]\n"
     ]
    }
   ],
   "source": [
    "from sklearn.linear_model import Perceptron\n",
    "import numpy as np\n",
    "X = np.array([[0, 0], [0, 1], [1, 0], [1, 1]])\n",
    "y = np.array([0, 0, 0, 1])\n",
    "clf = Perceptron()\n",
    "clf.fit(X, y)\n",
    "test_data = np.array([[0, 0], [0, 1], [1, 0], [1, 1]])\n",
    "predictions = clf.predict(test_data)\n",
    "print(predictions)\n",
    "\n",
    "# Scratch\n",
    "import numpy as np\n",
    "\n",
    "# Input data\n",
    "X = np.array([[0, 0], [0, 1], [1, 0], [1, 1]])\n",
    "\n",
    "# Output data\n",
    "Y = np.array([[0], [0], [0], [1]])\n",
    "\n",
    "# Step function\n",
    "def step_function(x):\n",
    "    return np.where(x > 0, 1, 0)\n",
    "\n",
    "# Initialize weights and bias\n",
    "W = np.random.rand(2, 1)\n",
    "b = np.random.rand(1)\n",
    "\n",
    "# Learning rate\n",
    "lr = 0.1\n",
    "\n",
    "# Training the model\n",
    "for i in range(10000):\n",
    "    # Forward propagation\n",
    "    Z = np.dot(X, W) + b\n",
    "    A = step_function(Z)\n",
    "\n",
    "    # Backward propagation\n",
    "    error = Y - A\n",
    "    dW = lr * np.dot(X.T, error)\n",
    "    db = lr * np.sum(error)\n",
    "\n",
    "    # Update weights and bias\n",
    "    W += dW\n",
    "    b += db\n",
    "\n",
    "# Testing the model\n",
    "test_data = np.array([[0, 0], [0, 1], [1, 0], [1, 1]])\n",
    "for x in test_data:\n",
    "    result = step_function(np.dot(x, W) + b)\n",
    "    print(f\"{x[0]} AND {x[1]} = {result}\")\n"
   ]
  },
  {
   "attachments": {},
   "cell_type": "markdown",
   "metadata": {},
   "source": [
    "5.Apply Hebbs and Delta Rule"
   ]
  },
  {
   "cell_type": "code",
   "execution_count": 17,
   "metadata": {},
   "outputs": [
    {
     "name": "stdout",
     "output_type": "stream",
     "text": [
      "[[0.77955031 0.22553648 0.98385229]\n",
      " [0.26299372 0.32367958 0.69123334]\n",
      " [0.84606871 0.74841357 0.25119327]]\n"
     ]
    }
   ],
   "source": [
    "# Hebbs Rule\n",
    "import numpy as np\n",
    "X = np.array([[1,0,0],[0,1,0],[0,0,1],[-1,0,0],[0,-1,0],[0,0,-1]])\n",
    "W = np.random.rand(3,3)\n",
    "lr = 0.1\n",
    "for i in range(X.shape[0]):\n",
    "    x = X[i].reshape(-1,1)\n",
    "    W += lr * np.dot(x,x.T)\n",
    "print(W)\n"
   ]
  },
  {
   "cell_type": "code",
   "execution_count": 19,
   "metadata": {},
   "outputs": [
    {
     "name": "stdout",
     "output_type": "stream",
     "text": [
      "[[0.47757617]\n",
      " [0.94216636]\n",
      " [0.5126008 ]]\n"
     ]
    }
   ],
   "source": [
    "# Delta Rule\n",
    "X = np.array([[1,0,0],[0,1,0],[0,0,1],[-1,0,0],[0,-1,0],[0,0,-1]])\n",
    "Y = np.array([[1],[1],[1],[-1],[-1],[-1],])\n",
    "W = np.random.rand(3,1)\n",
    "lr = 0.1\n",
    "\n",
    "for i in range(X.shape[0]):\n",
    "    x = X[i].reshape(-1,1)\n",
    "    error = Y[i] - np.dot(W.T,x)\n",
    "    W += lr * error * x\n",
    "print(W)\n"
   ]
  },
  {
   "attachments": {},
   "cell_type": "markdown",
   "metadata": {},
   "source": [
    "6.Write a program for Error Back Propogation Algorithm(EBPA) Learning"
   ]
  },
  {
   "cell_type": "code",
   "execution_count": 20,
   "metadata": {},
   "outputs": [
    {
     "name": "stdout",
     "output_type": "stream",
     "text": [
      "[[0.72128524]]\n"
     ]
    }
   ],
   "source": [
    "import numpy as np\n",
    "\n",
    "# Define sigmoid activation function\n",
    "def sigmoid(x):\n",
    "    return 1 / (1 + np.exp(-x))\n",
    "\n",
    "# Define derivative of sigmoid activation function\n",
    "def sigmoid_derivative(x):\n",
    "    return x * (1 - x)\n",
    "\n",
    "# Define training data\n",
    "X = np.array([[0, 0, 1],\n",
    "              [0, 1, 1],\n",
    "              [1, 0, 1],\n",
    "              [1, 1, 1]])\n",
    "\n",
    "y = np.array([[0],\n",
    "              [1],\n",
    "              [1],\n",
    "              [0]])\n",
    "\n",
    "# Define hyperparameters\n",
    "learning_rate = 0.1\n",
    "num_epochs = 10000\n",
    "num_hidden_units = 4\n",
    "\n",
    "# Initialize weights\n",
    "input_dim = X.shape[1]\n",
    "output_dim = y.shape[1]\n",
    "\n",
    "W1 = np.random.randn(input_dim, num_hidden_units)\n",
    "b1 = np.zeros((1, num_hidden_units))\n",
    "\n",
    "W2 = np.random.randn(num_hidden_units, output_dim)\n",
    "b2 = np.zeros((1, output_dim))\n",
    "\n",
    "# Train the network using backpropagation\n",
    "for epoch in range(num_epochs):\n",
    "    # Forward pass\n",
    "    z1 = np.dot(X, W1) + b1\n",
    "    a1 = sigmoid(z1)\n",
    "    \n",
    "    z2 = np.dot(a1, W2) + b2\n",
    "    a2 = sigmoid(z2)\n",
    "    \n",
    "    # Compute error\n",
    "    error = y - a2\n",
    "    \n",
    "    # Backward pass\n",
    "    delta2 = error * sigmoid_derivative(a2)\n",
    "    dW2 = np.dot(a1.T, delta2)\n",
    "    db2 = np.sum(delta2, axis=0, keepdims=True)\n",
    "    \n",
    "    delta1 = np.dot(delta2, W2.T) * sigmoid_derivative(a1)\n",
    "    dW1 = np.dot(X.T, delta1)\n",
    "    db1 = np.sum(delta1, axis=0, keepdims=True)\n",
    "    \n",
    "    # Update weights\n",
    "    W2 += learning_rate * dW2\n",
    "    b2 += learning_rate * db2\n",
    "    W1 += learning_rate * dW1\n",
    "    b1 += learning_rate * db1\n",
    "    \n",
    "# Predict output for new input\n",
    "new_input = np.array([[1, 0, 0]])\n",
    "z1 = np.dot(new_input, W1) + b1\n",
    "a1 = sigmoid(z1)\n",
    "\n",
    "z2 = np.dot(a1, W2) + b2\n",
    "a2 = sigmoid(z2)\n",
    "\n",
    "print(a2)\n"
   ]
  },
  {
   "attachments": {},
   "cell_type": "markdown",
   "metadata": {},
   "source": [
    "7. Implementation of Simple Genetic Algorithm"
   ]
  },
  {
   "cell_type": "code",
   "execution_count": 21,
   "metadata": {},
   "outputs": [
    {
     "name": "stdout",
     "output_type": "stream",
     "text": [
      "Final population:\n",
      "[[1 0 1 1 1]\n",
      " [1 1 1 1 1]\n",
      " [1 1 1 1 1]\n",
      " [1 1 1 1 1]\n",
      " [1 1 1 1 1]\n",
      " [1 1 1 1 1]\n",
      " [1 1 1 1 1]\n",
      " [1 1 1 1 1]\n",
      " [1 1 1 1 1]\n",
      " [1 1 1 1 1]]\n",
      "Fitness scores:\n",
      "[4, 5, 5, 5, 5, 5, 5, 5, 5, 5]\n"
     ]
    }
   ],
   "source": [
    "import numpy as np\n",
    "\n",
    "# Define parameters\n",
    "pop_size = 10\n",
    "num_genes = 5\n",
    "mutation_rate = 0.1\n",
    "crossover_rate = 0.5\n",
    "num_generations = 100\n",
    "\n",
    "# Define fitness function\n",
    "def fitness(individual):\n",
    "    return sum(individual)\n",
    "\n",
    "# Initialize population\n",
    "population = np.random.randint(2, size=(pop_size, num_genes))\n",
    "\n",
    "# Evolution loop\n",
    "for generation in range(num_generations):\n",
    "    # Calculate fitness scores\n",
    "    fitness_scores = [fitness(individual) for individual in population]\n",
    "    # Select parents for crossover\n",
    "    parent_indices = np.random.choice(pop_size, size=2, replace=False, p=np.array(fitness_scores)/sum(fitness_scores))\n",
    "    parents = population[parent_indices]\n",
    "    # Perform crossover\n",
    "    if np.random.random() < crossover_rate:\n",
    "        crossover_point = np.random.randint(num_genes)\n",
    "        offspring = np.concatenate([parents[0][:crossover_point], parents[1][crossover_point:]])\n",
    "    else:\n",
    "        offspring = parents[0]\n",
    "    # Perform mutation\n",
    "    for i in range(num_genes):\n",
    "        if np.random.random() < mutation_rate:\n",
    "            offspring[i] = 1 - offspring[i]\n",
    "    # Replace least fit individual in population with offspring\n",
    "    least_fit_index = np.argmin(fitness_scores)\n",
    "    population[least_fit_index] = offspring\n",
    "\n",
    "# Print final population and fitness scores\n",
    "print(\"Final population:\")\n",
    "print(population)\n",
    "print(\"Fitness scores:\")\n",
    "print([fitness(individual) for individual in population])\n"
   ]
  },
  {
   "cell_type": "code",
   "execution_count": null,
   "metadata": {},
   "outputs": [],
   "source": [
    "8.Implementation of Unsupervised Learning Algorithm"
   ]
  },
  {
   "cell_type": "code",
   "execution_count": 23,
   "metadata": {},
   "outputs": [
    {
     "name": "stdout",
     "output_type": "stream",
     "text": [
      "Cluster labels:\n",
      " [1 0 1 1 2 1 0 1 1 1 2 1 0 2 1 2 0 1 1 2 0 0 1 1 0 1 1 2 2 0 1 1 1 1 0 2 0\n",
      " 2 1 1 2 1 2 0 0 1 0 2 0 1 1 2 1 2 2 2 0 0 0 2 2 1 0 1 2 1 1 1 1 1 0 0 2 0\n",
      " 0 2 0 0 1 2 0 0 0 0 1 2 2 2 0 1 1 0 1 1 0 1 2 2 0 1]\n",
      "Cluster centers:\n",
      " [[0.2240113  0.24001213]\n",
      " [0.44043541 0.7912953 ]\n",
      " [0.78689446 0.33682595]]\n"
     ]
    }
   ],
   "source": [
    "import numpy as np\n",
    "from sklearn.cluster import KMeans\n",
    "\n",
    "# Generate some random data\n",
    "data = np.random.rand(100, 2)\n",
    "\n",
    "# Define the number of clusters\n",
    "k = 3\n",
    "\n",
    "# Initialize the KMeans object\n",
    "kmeans = KMeans(n_clusters=k)\n",
    "\n",
    "# Fit the data to the KMeans object\n",
    "kmeans.fit(data)\n",
    "\n",
    "# Get the cluster labels for each data point\n",
    "labels = kmeans.labels_\n",
    "\n",
    "# Get the cluster centers\n",
    "centers = kmeans.cluster_centers_\n",
    "\n",
    "# Print the cluster labels and centers\n",
    "print(\"Cluster labels:\\n\", labels)\n",
    "print(\"Cluster centers:\\n\", centers)\n"
   ]
  },
  {
   "attachments": {},
   "cell_type": "markdown",
   "metadata": {},
   "source": [
    "9.Design a fuzzy controller"
   ]
  },
  {
   "cell_type": "code",
   "execution_count": 32,
   "metadata": {},
   "outputs": [
    {
     "name": "stdout",
     "output_type": "stream",
     "text": [
      "4.999999999999998\n"
     ]
    }
   ],
   "source": [
    "import numpy as np\n",
    "import skfuzzy as fuzz\n",
    "from skfuzzy import control as ctrl\n",
    "\n",
    "# Define input variables\n",
    "water_level = ctrl.Antecedent(np.arange(0, 11, 1), 'water_level')\n",
    "dirt_level = ctrl.Antecedent(np.arange(0, 11, 1), 'dirt_level')\n",
    "\n",
    "# Define output variable\n",
    "detergent_amount = ctrl.Consequent(np.arange(0, 11, 1), 'detergent_amount')\n",
    "\n",
    "# Define membership functions for input variables\n",
    "water_level['low'] = fuzz.trimf(water_level.universe, [0, 0, 5])\n",
    "water_level['medium'] = fuzz.trimf(water_level.universe, [0, 5, 10])\n",
    "water_level['high'] = fuzz.trimf(water_level.universe, [5, 10, 10])\n",
    "\n",
    "dirt_level['low'] = fuzz.trimf(dirt_level.universe, [0, 0, 5])\n",
    "dirt_level['medium'] = fuzz.trimf(dirt_level.universe, [0, 5, 10])\n",
    "dirt_level['high'] = fuzz.trimf(dirt_level.universe, [5, 10, 10])\n",
    "\n",
    "# Define membership functions for output variable\n",
    "detergent_amount['low'] = fuzz.trimf(detergent_amount.universe, [0, 0, 5])\n",
    "detergent_amount['medium'] = fuzz.trimf(detergent_amount.universe, [0, 5, 10])\n",
    "detergent_amount['high'] = fuzz.trimf(detergent_amount.universe, [5, 10, 10])\n",
    "\n",
    "# Define fuzzy rules\n",
    "rule1 = ctrl.Rule(water_level['low'] & dirt_level['low'], detergent_amount['low'])\n",
    "rule2 = ctrl.Rule(water_level['low'] & dirt_level['medium'], detergent_amount['low'])\n",
    "rule3 = ctrl.Rule(water_level['low'] & dirt_level['high'], detergent_amount['medium'])\n",
    "rule4 = ctrl.Rule(water_level['medium'] & dirt_level['low'], detergent_amount['low'])\n",
    "rule5 = ctrl.Rule(water_level['medium'] & dirt_level['medium'], detergent_amount['medium'])\n",
    "rule6 = ctrl.Rule(water_level['medium'] & dirt_level['high'], detergent_amount['high'])\n",
    "rule7 = ctrl.Rule(water_level['high'] & dirt_level['low'], detergent_amount['medium'])\n",
    "rule8 = ctrl.Rule(water_level['high'] & dirt_level['medium'], detergent_amount['high'])\n",
    "rule9 = ctrl.Rule(water_level['high'] & dirt_level['high'], detergent_amount['high'])\n",
    "\n",
    "# Define control system\n",
    "washing_machine_ctrl = ctrl.ControlSystem(\n",
    "    [rule1, rule2, rule3, rule4, rule5, rule6, rule7, rule8, rule9])\n",
    "\n",
    "# Define simulation\n",
    "washing_machine_sim = ctrl.ControlSystemSimulation(washing_machine_ctrl)\n",
    "\n",
    "# Set input values\n",
    "washing_machine_sim.input['water_level'] = 3\n",
    "washing_machine_sim.input['dirt_level'] = 7\n",
    "\n",
    "# Run simulation\n",
    "washing_machine_sim.compute()\n",
    "\n",
    "# Print output value\n",
    "print(washing_machine_sim.output['detergent_amount'])\n"
   ]
  },
  {
   "cell_type": "code",
   "execution_count": 27,
   "metadata": {},
   "outputs": [
    {
     "name": "stdout",
     "output_type": "stream",
     "text": [
      "Requirement already satisfied: numpy in c:\\users\\admin\\anaconda3\\lib\\site-packages (1.22.4)\n",
      "Requirement already satisfied: scipy in c:\\users\\admin\\anaconda3\\lib\\site-packages (1.7.3)\n",
      "Note: you may need to restart the kernel to use updated packages.\n"
     ]
    },
    {
     "name": "stderr",
     "output_type": "stream",
     "text": [
      "WARNING: Ignoring invalid distribution -rotobuf (c:\\users\\admin\\anaconda3\\lib\\site-packages)\n",
      "WARNING: Ignoring invalid distribution -rotobuf (c:\\users\\admin\\anaconda3\\lib\\site-packages)\n",
      "WARNING: Ignoring invalid distribution -rotobuf (c:\\users\\admin\\anaconda3\\lib\\site-packages)\n",
      "WARNING: Ignoring invalid distribution -rotobuf (c:\\users\\admin\\anaconda3\\lib\\site-packages)\n",
      "WARNING: Ignoring invalid distribution -rotobuf (c:\\users\\admin\\anaconda3\\lib\\site-packages)\n",
      "WARNING: Ignoring invalid distribution -rotobuf (c:\\users\\admin\\anaconda3\\lib\\site-packages)\n"
     ]
    }
   ],
   "source": [
    "pip install numpy scipy"
   ]
  },
  {
   "cell_type": "code",
   "execution_count": 30,
   "metadata": {},
   "outputs": [
    {
     "name": "stdout",
     "output_type": "stream",
     "text": [
      "Collecting scikit-fuzzy\n",
      "  Downloading scikit-fuzzy-0.4.2.tar.gz (993 kB)\n",
      "Requirement already satisfied: numpy>=1.6.0 in c:\\users\\admin\\anaconda3\\lib\\site-packages (from scikit-fuzzy) (1.22.4)\n",
      "Requirement already satisfied: scipy>=0.9.0 in c:\\users\\admin\\anaconda3\\lib\\site-packages (from scikit-fuzzy) (1.7.3)\n",
      "Requirement already satisfied: networkx>=1.9.0 in c:\\users\\admin\\anaconda3\\lib\\site-packages (from scikit-fuzzy) (2.7.1)\n",
      "Building wheels for collected packages: scikit-fuzzy\n",
      "  Building wheel for scikit-fuzzy (setup.py): started\n",
      "  Building wheel for scikit-fuzzy (setup.py): finished with status 'done'Note: you may need to restart the kernel to use updated packages.\n"
     ]
    },
    {
     "name": "stderr",
     "output_type": "stream",
     "text": [
      "WARNING: Ignoring invalid distribution -rotobuf (c:\\users\\admin\\anaconda3\\lib\\site-packages)\n",
      "WARNING: Ignoring invalid distribution -rotobuf (c:\\users\\admin\\anaconda3\\lib\\site-packages)\n",
      "WARNING: Ignoring invalid distribution -rotobuf (c:\\users\\admin\\anaconda3\\lib\\site-packages)\n",
      "WARNING: Ignoring invalid distribution -rotobuf (c:\\users\\admin\\anaconda3\\lib\\site-packages)\n",
      "WARNING: Ignoring invalid distribution -rotobuf (c:\\users\\admin\\anaconda3\\lib\\site-packages)\n",
      "WARNING: Ignoring invalid distribution -rotobuf (c:\\users\\admin\\anaconda3\\lib\\site-packages)\n"
     ]
    },
    {
     "name": "stdout",
     "output_type": "stream",
     "text": [
      "\n",
      "  Created wheel for scikit-fuzzy: filename=scikit_fuzzy-0.4.2-py3-none-any.whl size=894089 sha256=9374a7294ed976eecab0710280a197ae633bf39fdde77ba8d718d9709174f780\n",
      "  Stored in directory: c:\\users\\admin\\appdata\\local\\pip\\cache\\wheels\\32\\2c\\a1\\a90a7d7dd8448ec029f298a61f3490275e99b17aa348be675c\n",
      "Successfully built scikit-fuzzy\n",
      "Installing collected packages: scikit-fuzzy\n",
      "Successfully installed scikit-fuzzy-0.4.2\n"
     ]
    },
    {
     "name": "stderr",
     "output_type": "stream",
     "text": [
      "WARNING: Ignoring invalid distribution -rotobuf (c:\\users\\admin\\anaconda3\\lib\\site-packages)\n"
     ]
    }
   ],
   "source": [
    "pip install -U scikit-fuzzy"
   ]
  }
 ],
 "metadata": {
  "kernelspec": {
   "display_name": "base",
   "language": "python",
   "name": "python3"
  },
  "language_info": {
   "codemirror_mode": {
    "name": "ipython",
    "version": 3
   },
   "file_extension": ".py",
   "mimetype": "text/x-python",
   "name": "python",
   "nbconvert_exporter": "python",
   "pygments_lexer": "ipython3",
   "version": "3.9.12"
  },
  "orig_nbformat": 4
 },
 "nbformat": 4,
 "nbformat_minor": 2
}
