{
 "cells": [
  {
   "cell_type": "markdown",
   "id": "9e7ad44c",
   "metadata": {},
   "source": [
    "# Covid Sentimental Analysis"
   ]
  },
  {
   "cell_type": "markdown",
   "id": "313bb0dd",
   "metadata": {},
   "source": [
    "## Importing the libraries"
   ]
  },
  {
   "cell_type": "code",
   "execution_count": 1,
   "id": "00b8e5c3",
   "metadata": {},
   "outputs": [],
   "source": [
    "import numpy as np\n",
    "import pandas as pd\n",
    "import matplotlib.pyplot as plt\n",
    "import seaborn as sns\n",
    "import nltk"
   ]
  },
  {
   "cell_type": "code",
   "execution_count": 2,
   "id": "2c44d34c",
   "metadata": {},
   "outputs": [],
   "source": [
    "import warnings\n",
    "warnings.filterwarnings('ignore')"
   ]
  },
  {
   "cell_type": "markdown",
   "id": "1ec72819",
   "metadata": {},
   "source": [
    "## Importing the dataset"
   ]
  },
  {
   "cell_type": "code",
   "execution_count": 3,
   "id": "ff659f95",
   "metadata": {},
   "outputs": [],
   "source": [
    "df = pd.read_csv(\"Sentimentdata.csv\")"
   ]
  },
  {
   "cell_type": "code",
   "execution_count": 4,
   "id": "af138504",
   "metadata": {},
   "outputs": [
    {
     "data": {
      "text/html": [
       "<div>\n",
       "<style scoped>\n",
       "    .dataframe tbody tr th:only-of-type {\n",
       "        vertical-align: middle;\n",
       "    }\n",
       "\n",
       "    .dataframe tbody tr th {\n",
       "        vertical-align: top;\n",
       "    }\n",
       "\n",
       "    .dataframe thead th {\n",
       "        text-align: right;\n",
       "    }\n",
       "</style>\n",
       "<table border=\"1\" class=\"dataframe\">\n",
       "  <thead>\n",
       "    <tr style=\"text-align: right;\">\n",
       "      <th></th>\n",
       "      <th>Unnamed: 0</th>\n",
       "      <th>sentiment</th>\n",
       "      <th>text</th>\n",
       "    </tr>\n",
       "  </thead>\n",
       "  <tbody>\n",
       "    <tr>\n",
       "      <th>0</th>\n",
       "      <td>3204</td>\n",
       "      <td>sad</td>\n",
       "      <td>agree the poor in india are treated badly thei...</td>\n",
       "    </tr>\n",
       "    <tr>\n",
       "      <th>1</th>\n",
       "      <td>1431</td>\n",
       "      <td>joy</td>\n",
       "      <td>if only i could have spent the with this cutie...</td>\n",
       "    </tr>\n",
       "    <tr>\n",
       "      <th>2</th>\n",
       "      <td>654</td>\n",
       "      <td>joy</td>\n",
       "      <td>will nature conservation remain a priority in ...</td>\n",
       "    </tr>\n",
       "    <tr>\n",
       "      <th>3</th>\n",
       "      <td>2530</td>\n",
       "      <td>sad</td>\n",
       "      <td>coronavirus disappearing in italy show this to...</td>\n",
       "    </tr>\n",
       "    <tr>\n",
       "      <th>4</th>\n",
       "      <td>2296</td>\n",
       "      <td>sad</td>\n",
       "      <td>uk records lowest daily virus death toll since...</td>\n",
       "    </tr>\n",
       "  </tbody>\n",
       "</table>\n",
       "</div>"
      ],
      "text/plain": [
       "   Unnamed: 0 sentiment                                               text\n",
       "0        3204       sad  agree the poor in india are treated badly thei...\n",
       "1        1431       joy  if only i could have spent the with this cutie...\n",
       "2         654       joy  will nature conservation remain a priority in ...\n",
       "3        2530       sad  coronavirus disappearing in italy show this to...\n",
       "4        2296       sad  uk records lowest daily virus death toll since..."
      ]
     },
     "execution_count": 4,
     "metadata": {},
     "output_type": "execute_result"
    }
   ],
   "source": [
    "df.head()"
   ]
  },
  {
   "cell_type": "markdown",
   "id": "76846539",
   "metadata": {},
   "source": [
    "## Data Analysis"
   ]
  },
  {
   "cell_type": "code",
   "execution_count": 5,
   "id": "679d846d",
   "metadata": {},
   "outputs": [
    {
     "name": "stdout",
     "output_type": "stream",
     "text": [
      "<class 'pandas.core.frame.DataFrame'>\n",
      "RangeIndex: 3090 entries, 0 to 3089\n",
      "Data columns (total 3 columns):\n",
      " #   Column      Non-Null Count  Dtype \n",
      "---  ------      --------------  ----- \n",
      " 0   Unnamed: 0  3090 non-null   int64 \n",
      " 1   sentiment   3090 non-null   object\n",
      " 2   text        3090 non-null   object\n",
      "dtypes: int64(1), object(2)\n",
      "memory usage: 72.5+ KB\n"
     ]
    }
   ],
   "source": [
    "df.info()"
   ]
  },
  {
   "cell_type": "code",
   "execution_count": 6,
   "id": "63538968",
   "metadata": {},
   "outputs": [],
   "source": [
    "df = df.drop(['Unnamed: 0'], axis=1)"
   ]
  },
  {
   "cell_type": "code",
   "execution_count": 7,
   "id": "b54adfce",
   "metadata": {},
   "outputs": [
    {
     "data": {
      "text/html": [
       "<div>\n",
       "<style scoped>\n",
       "    .dataframe tbody tr th:only-of-type {\n",
       "        vertical-align: middle;\n",
       "    }\n",
       "\n",
       "    .dataframe tbody tr th {\n",
       "        vertical-align: top;\n",
       "    }\n",
       "\n",
       "    .dataframe thead th {\n",
       "        text-align: right;\n",
       "    }\n",
       "</style>\n",
       "<table border=\"1\" class=\"dataframe\">\n",
       "  <thead>\n",
       "    <tr style=\"text-align: right;\">\n",
       "      <th></th>\n",
       "      <th>sentiment</th>\n",
       "      <th>text</th>\n",
       "    </tr>\n",
       "  </thead>\n",
       "  <tbody>\n",
       "    <tr>\n",
       "      <th>0</th>\n",
       "      <td>sad</td>\n",
       "      <td>agree the poor in india are treated badly thei...</td>\n",
       "    </tr>\n",
       "    <tr>\n",
       "      <th>1</th>\n",
       "      <td>joy</td>\n",
       "      <td>if only i could have spent the with this cutie...</td>\n",
       "    </tr>\n",
       "    <tr>\n",
       "      <th>2</th>\n",
       "      <td>joy</td>\n",
       "      <td>will nature conservation remain a priority in ...</td>\n",
       "    </tr>\n",
       "    <tr>\n",
       "      <th>3</th>\n",
       "      <td>sad</td>\n",
       "      <td>coronavirus disappearing in italy show this to...</td>\n",
       "    </tr>\n",
       "    <tr>\n",
       "      <th>4</th>\n",
       "      <td>sad</td>\n",
       "      <td>uk records lowest daily virus death toll since...</td>\n",
       "    </tr>\n",
       "  </tbody>\n",
       "</table>\n",
       "</div>"
      ],
      "text/plain": [
       "  sentiment                                               text\n",
       "0       sad  agree the poor in india are treated badly thei...\n",
       "1       joy  if only i could have spent the with this cutie...\n",
       "2       joy  will nature conservation remain a priority in ...\n",
       "3       sad  coronavirus disappearing in italy show this to...\n",
       "4       sad  uk records lowest daily virus death toll since..."
      ]
     },
     "execution_count": 7,
     "metadata": {},
     "output_type": "execute_result"
    }
   ],
   "source": [
    "df.head()"
   ]
  },
  {
   "cell_type": "code",
   "execution_count": 8,
   "id": "942cb0a7",
   "metadata": {},
   "outputs": [
    {
     "data": {
      "text/plain": [
       "42"
      ]
     },
     "execution_count": 8,
     "metadata": {},
     "output_type": "execute_result"
    }
   ],
   "source": [
    "df.duplicated().sum()"
   ]
  },
  {
   "cell_type": "code",
   "execution_count": 9,
   "id": "24fdcd70",
   "metadata": {},
   "outputs": [],
   "source": [
    "df = df.drop_duplicates(keep='first')"
   ]
  },
  {
   "cell_type": "code",
   "execution_count": 10,
   "id": "6232ce30",
   "metadata": {},
   "outputs": [
    {
     "data": {
      "text/plain": [
       "0"
      ]
     },
     "execution_count": 10,
     "metadata": {},
     "output_type": "execute_result"
    }
   ],
   "source": [
    "df.duplicated().sum()"
   ]
  },
  {
   "cell_type": "code",
   "execution_count": 11,
   "id": "f6e45390",
   "metadata": {},
   "outputs": [
    {
     "name": "stdout",
     "output_type": "stream",
     "text": [
      "<class 'pandas.core.frame.DataFrame'>\n",
      "Int64Index: 3048 entries, 0 to 3089\n",
      "Data columns (total 2 columns):\n",
      " #   Column     Non-Null Count  Dtype \n",
      "---  ------     --------------  ----- \n",
      " 0   sentiment  3048 non-null   object\n",
      " 1   text       3048 non-null   object\n",
      "dtypes: object(2)\n",
      "memory usage: 71.4+ KB\n"
     ]
    }
   ],
   "source": [
    "df.info()"
   ]
  },
  {
   "cell_type": "markdown",
   "id": "f6d08931",
   "metadata": {},
   "source": [
    "## Dependent Label Encoding"
   ]
  },
  {
   "cell_type": "code",
   "execution_count": 12,
   "id": "e0cc3893",
   "metadata": {},
   "outputs": [
    {
     "data": {
      "text/plain": [
       "array(['sad', 'joy', 'fear', 'anger'], dtype=object)"
      ]
     },
     "execution_count": 12,
     "metadata": {},
     "output_type": "execute_result"
    }
   ],
   "source": [
    "df['sentiment'].unique()"
   ]
  },
  {
   "cell_type": "code",
   "execution_count": 13,
   "id": "56bb1b97",
   "metadata": {},
   "outputs": [
    {
     "data": {
      "text/plain": [
       "fear     796\n",
       "sad      770\n",
       "anger    766\n",
       "joy      716\n",
       "Name: sentiment, dtype: int64"
      ]
     },
     "execution_count": 13,
     "metadata": {},
     "output_type": "execute_result"
    }
   ],
   "source": [
    "df['sentiment'].value_counts()"
   ]
  },
  {
   "cell_type": "code",
   "execution_count": 14,
   "id": "00e45a35",
   "metadata": {},
   "outputs": [],
   "source": [
    "from sklearn.preprocessing import LabelEncoder\n",
    "le = LabelEncoder()\n",
    "df['sentiment'] = le.fit_transform(df['sentiment'])"
   ]
  },
  {
   "cell_type": "code",
   "execution_count": 15,
   "id": "02bf6a38",
   "metadata": {},
   "outputs": [
    {
     "data": {
      "text/html": [
       "<div>\n",
       "<style scoped>\n",
       "    .dataframe tbody tr th:only-of-type {\n",
       "        vertical-align: middle;\n",
       "    }\n",
       "\n",
       "    .dataframe tbody tr th {\n",
       "        vertical-align: top;\n",
       "    }\n",
       "\n",
       "    .dataframe thead th {\n",
       "        text-align: right;\n",
       "    }\n",
       "</style>\n",
       "<table border=\"1\" class=\"dataframe\">\n",
       "  <thead>\n",
       "    <tr style=\"text-align: right;\">\n",
       "      <th></th>\n",
       "      <th>sentiment</th>\n",
       "      <th>text</th>\n",
       "    </tr>\n",
       "  </thead>\n",
       "  <tbody>\n",
       "    <tr>\n",
       "      <th>0</th>\n",
       "      <td>3</td>\n",
       "      <td>agree the poor in india are treated badly thei...</td>\n",
       "    </tr>\n",
       "    <tr>\n",
       "      <th>1</th>\n",
       "      <td>2</td>\n",
       "      <td>if only i could have spent the with this cutie...</td>\n",
       "    </tr>\n",
       "    <tr>\n",
       "      <th>2</th>\n",
       "      <td>2</td>\n",
       "      <td>will nature conservation remain a priority in ...</td>\n",
       "    </tr>\n",
       "    <tr>\n",
       "      <th>3</th>\n",
       "      <td>3</td>\n",
       "      <td>coronavirus disappearing in italy show this to...</td>\n",
       "    </tr>\n",
       "    <tr>\n",
       "      <th>4</th>\n",
       "      <td>3</td>\n",
       "      <td>uk records lowest daily virus death toll since...</td>\n",
       "    </tr>\n",
       "  </tbody>\n",
       "</table>\n",
       "</div>"
      ],
      "text/plain": [
       "   sentiment                                               text\n",
       "0          3  agree the poor in india are treated badly thei...\n",
       "1          2  if only i could have spent the with this cutie...\n",
       "2          2  will nature conservation remain a priority in ...\n",
       "3          3  coronavirus disappearing in italy show this to...\n",
       "4          3  uk records lowest daily virus death toll since..."
      ]
     },
     "execution_count": 15,
     "metadata": {},
     "output_type": "execute_result"
    }
   ],
   "source": [
    "df.head()\n",
    "# 0 --> Anger\n",
    "# 1 --> Fear\n",
    "# 2--> Joy\n",
    "# 3 --> Sad"
   ]
  },
  {
   "cell_type": "code",
   "execution_count": 16,
   "id": "9edd5ef4",
   "metadata": {},
   "outputs": [
    {
     "data": {
      "text/plain": [
       "array([3, 2, 1, 0])"
      ]
     },
     "execution_count": 16,
     "metadata": {},
     "output_type": "execute_result"
    }
   ],
   "source": [
    "df['sentiment'].unique()"
   ]
  },
  {
   "cell_type": "code",
   "execution_count": 17,
   "id": "24021d0d",
   "metadata": {},
   "outputs": [
    {
     "data": {
      "text/plain": [
       "1    796\n",
       "3    770\n",
       "0    766\n",
       "2    716\n",
       "Name: sentiment, dtype: int64"
      ]
     },
     "execution_count": 17,
     "metadata": {},
     "output_type": "execute_result"
    }
   ],
   "source": [
    "df['sentiment'].value_counts()"
   ]
  },
  {
   "cell_type": "code",
   "execution_count": 18,
   "id": "446a4f80",
   "metadata": {},
   "outputs": [
    {
     "data": {
      "text/plain": [
       "(3048, 2)"
      ]
     },
     "execution_count": 18,
     "metadata": {},
     "output_type": "execute_result"
    }
   ],
   "source": [
    "df.shape"
   ]
  },
  {
   "cell_type": "markdown",
   "id": "b2cb20ad",
   "metadata": {},
   "source": [
    "## Data Preprocessing"
   ]
  },
  {
   "cell_type": "code",
   "execution_count": 19,
   "id": "4aee9c8d",
   "metadata": {},
   "outputs": [],
   "source": [
    "from nltk.stem.porter import PorterStemmer\n",
    "from nltk.stem import WordNetLemmatizer\n",
    "from nltk.corpus import stopwords\n",
    "import re\n",
    "import string\n",
    "ps = PorterStemmer()\n",
    "wnl = WordNetLemmatizer()\n",
    "\n",
    "class transformation():\n",
    "    def __init__(self):\n",
    "        self.text = \"\"\n",
    "        \n",
    "    def text_transformation(self, text):\n",
    "        y = []\n",
    "        text = text.split()           # Tokenization\n",
    "\n",
    "        for i in text:\n",
    "            y.append(ps.stem(i))          # Stemming\n",
    "\n",
    "        text = y[:]\n",
    "        y.clear()\n",
    "\n",
    "        for i in text:\n",
    "            y.append(wnl.lemmatize(i))           # Lemmitization\n",
    "\n",
    "        text = y[:]\n",
    "        y.clear()\n",
    "\n",
    "        for i in text:\n",
    "            if i not in stopwords.words('english') and i not in string.punctuation:\n",
    "                y.append(i)           # StopWord and Punctation Removal\n",
    "\n",
    "        z = \" \".join(y)\n",
    "        z = re.sub(r'http\\S+', ' ', z)      # Removing all the link releted text\n",
    "        z = re.sub('[^a-zA-Z]', ' ',  z)    # Removing all the element except a-z and A-Z\n",
    "        \n",
    "        return z"
   ]
  },
  {
   "cell_type": "code",
   "execution_count": 20,
   "id": "5b2b50c8",
   "metadata": {},
   "outputs": [],
   "source": [
    "tf = transformation()"
   ]
  },
  {
   "cell_type": "code",
   "execution_count": 21,
   "id": "9fefdab5",
   "metadata": {},
   "outputs": [],
   "source": [
    "df['transformed_text'] = df['text'].apply(tf.text_transformation)"
   ]
  },
  {
   "cell_type": "code",
   "execution_count": 22,
   "id": "f48e9f6a",
   "metadata": {},
   "outputs": [
    {
     "data": {
      "text/html": [
       "<div>\n",
       "<style scoped>\n",
       "    .dataframe tbody tr th:only-of-type {\n",
       "        vertical-align: middle;\n",
       "    }\n",
       "\n",
       "    .dataframe tbody tr th {\n",
       "        vertical-align: top;\n",
       "    }\n",
       "\n",
       "    .dataframe thead th {\n",
       "        text-align: right;\n",
       "    }\n",
       "</style>\n",
       "<table border=\"1\" class=\"dataframe\">\n",
       "  <thead>\n",
       "    <tr style=\"text-align: right;\">\n",
       "      <th></th>\n",
       "      <th>sentiment</th>\n",
       "      <th>text</th>\n",
       "      <th>transformed_text</th>\n",
       "    </tr>\n",
       "  </thead>\n",
       "  <tbody>\n",
       "    <tr>\n",
       "      <th>0</th>\n",
       "      <td>3</td>\n",
       "      <td>agree the poor in india are treated badly thei...</td>\n",
       "      <td>agre poor india treat badli poor seek live sin...</td>\n",
       "    </tr>\n",
       "    <tr>\n",
       "      <th>1</th>\n",
       "      <td>2</td>\n",
       "      <td>if only i could have spent the with this cutie...</td>\n",
       "      <td>onli could spent thi cuti vc sakshi   n g h co...</td>\n",
       "    </tr>\n",
       "    <tr>\n",
       "      <th>2</th>\n",
       "      <td>2</td>\n",
       "      <td>will nature conservation remain a priority in ...</td>\n",
       "      <td>natur conserv remain prioriti post corona bang...</td>\n",
       "    </tr>\n",
       "    <tr>\n",
       "      <th>3</th>\n",
       "      <td>3</td>\n",
       "      <td>coronavirus disappearing in italy show this to...</td>\n",
       "      <td>coronaviru disappear itali show thi  intellect...</td>\n",
       "    </tr>\n",
       "    <tr>\n",
       "      <th>4</th>\n",
       "      <td>3</td>\n",
       "      <td>uk records lowest daily virus death toll since...</td>\n",
       "      <td>uk record lowest daili viru death toll sinc st...</td>\n",
       "    </tr>\n",
       "  </tbody>\n",
       "</table>\n",
       "</div>"
      ],
      "text/plain": [
       "   sentiment                                               text  \\\n",
       "0          3  agree the poor in india are treated badly thei...   \n",
       "1          2  if only i could have spent the with this cutie...   \n",
       "2          2  will nature conservation remain a priority in ...   \n",
       "3          3  coronavirus disappearing in italy show this to...   \n",
       "4          3  uk records lowest daily virus death toll since...   \n",
       "\n",
       "                                    transformed_text  \n",
       "0  agre poor india treat badli poor seek live sin...  \n",
       "1  onli could spent thi cuti vc sakshi   n g h co...  \n",
       "2  natur conserv remain prioriti post corona bang...  \n",
       "3  coronaviru disappear itali show thi  intellect...  \n",
       "4  uk record lowest daili viru death toll sinc st...  "
      ]
     },
     "execution_count": 22,
     "metadata": {},
     "output_type": "execute_result"
    }
   ],
   "source": [
    "df.head()"
   ]
  },
  {
   "cell_type": "markdown",
   "id": "be944016",
   "metadata": {},
   "source": [
    "## Encoding of Independent & Dependent Data"
   ]
  },
  {
   "cell_type": "code",
   "execution_count": 23,
   "id": "0c226b43",
   "metadata": {},
   "outputs": [],
   "source": [
    "from sklearn.feature_extraction.text import TfidfVectorizer\n",
    "vector = TfidfVectorizer()\n",
    "X = vector.fit_transform(df['transformed_text'])\n",
    "y = df['sentiment']"
   ]
  },
  {
   "cell_type": "code",
   "execution_count": 24,
   "id": "aaeb96aa",
   "metadata": {},
   "outputs": [
    {
     "name": "stdout",
     "output_type": "stream",
     "text": [
      "  (0, 3135)\t0.12752316174279663\n",
      "  (0, 2502)\t0.21291797224041042\n",
      "  (0, 1045)\t0.11270030274174049\n",
      "  (0, 1506)\t0.07671571233980831\n",
      "  (0, 2446)\t0.17566802287476904\n",
      "  (0, 2356)\t0.12338110852575408\n",
      "  (0, 6816)\t0.13898378195358804\n",
      "  (0, 3103)\t0.11123619656069994\n",
      "  (0, 986)\t0.12007446431461066\n",
      "  (0, 1020)\t0.1833980857912587\n",
      "  (0, 6267)\t0.22381288400674143\n",
      "  (0, 1619)\t0.15016607783488287\n",
      "  (0, 2513)\t0.1395616570990087\n",
      "  (0, 7056)\t0.1663089667543042\n",
      "  (0, 4249)\t0.1476839920714835\n",
      "  (0, 2571)\t0.14931298527545867\n",
      "  (0, 2717)\t0.31876211538534466\n",
      "  (0, 1207)\t0.14848614592634135\n",
      "  (0, 3949)\t0.10798102776493823\n",
      "  (0, 6281)\t0.19015094434054716\n",
      "  (0, 3976)\t0.12035880727076735\n",
      "  (0, 6077)\t0.19015094434054716\n",
      "  (0, 518)\t0.19429299755758972\n",
      "  (0, 7055)\t0.4858261720239405\n",
      "  (0, 3331)\t0.11103340194820294\n",
      "  :\t:\n",
      "  (3046, 1661)\t0.16568134445217728\n",
      "  (3046, 6898)\t0.18624411133321964\n",
      "  (3046, 7740)\t0.12693225441889808\n",
      "  (3046, 896)\t0.18624411133321964\n",
      "  (3046, 4441)\t0.15673569146994432\n",
      "  (3046, 7450)\t0.2053373395674179\n",
      "  (3046, 6980)\t0.1619805266980305\n",
      "  (3046, 2015)\t0.22275196453625778\n",
      "  (3046, 6981)\t0.15673569146994432\n",
      "  (3046, 1670)\t0.23521387691386042\n",
      "  (3046, 1461)\t0.059859085289938885\n",
      "  (3046, 6888)\t0.07150540505487683\n",
      "  (3046, 3135)\t0.2630650530935808\n",
      "  (3046, 1506)\t0.07912767635297248\n",
      "  (3046, 4249)\t0.15232721916711464\n",
      "  (3047, 5699)\t0.45475296340705545\n",
      "  (3047, 573)\t0.43261619753772246\n",
      "  (3047, 1590)\t0.32141062787073893\n",
      "  (3047, 628)\t0.3033807585765422\n",
      "  (3047, 5090)\t0.1741986620546902\n",
      "  (3047, 5579)\t0.30511410994807\n",
      "  (3047, 6893)\t0.2359686717184224\n",
      "  (3047, 1506)\t0.15587439338550424\n",
      "  (3047, 7056)\t0.33791394900396926\n",
      "  (3047, 5256)\t0.30511410994807\n"
     ]
    }
   ],
   "source": [
    "print(X)"
   ]
  },
  {
   "cell_type": "code",
   "execution_count": 25,
   "id": "3e9bd634",
   "metadata": {},
   "outputs": [
    {
     "name": "stdout",
     "output_type": "stream",
     "text": [
      "0       3\n",
      "1       2\n",
      "2       2\n",
      "3       3\n",
      "4       3\n",
      "       ..\n",
      "3084    0\n",
      "3086    0\n",
      "3087    2\n",
      "3088    3\n",
      "3089    3\n",
      "Name: sentiment, Length: 3048, dtype: int32\n"
     ]
    }
   ],
   "source": [
    "print(y)"
   ]
  },
  {
   "cell_type": "markdown",
   "id": "869032f4",
   "metadata": {},
   "source": [
    "## Splitting the dataset into the Training set and Test set"
   ]
  },
  {
   "cell_type": "code",
   "execution_count": 26,
   "id": "249c59c4",
   "metadata": {},
   "outputs": [],
   "source": [
    "from sklearn.model_selection import train_test_split\n",
    "X_train, X_test, y_train, y_test = train_test_split(X, y, test_size = 0.25, random_state=78, shuffle=True)"
   ]
  },
  {
   "cell_type": "code",
   "execution_count": 27,
   "id": "34de82db",
   "metadata": {},
   "outputs": [
    {
     "data": {
      "text/plain": [
       "((2286, 7811), (2286,), (762, 7811), (762,))"
      ]
     },
     "execution_count": 27,
     "metadata": {},
     "output_type": "execute_result"
    }
   ],
   "source": [
    "X_train.shape, y_train.shape, X_test.shape, y_test.shape"
   ]
  },
  {
   "cell_type": "markdown",
   "id": "10450eca",
   "metadata": {},
   "source": [
    "## Logistic Regression"
   ]
  },
  {
   "cell_type": "code",
   "execution_count": 28,
   "id": "5ccc01a2",
   "metadata": {},
   "outputs": [],
   "source": [
    "from sklearn.metrics import accuracy_score, precision_score, confusion_matrix, classification_report, plot_confusion_matrix"
   ]
  },
  {
   "cell_type": "code",
   "execution_count": 29,
   "id": "5ed1caf6",
   "metadata": {},
   "outputs": [
    {
     "name": "stdout",
     "output_type": "stream",
     "text": [
      "Training Accuracy:  95.18810148731409\n",
      "Validation Accuracy:  73.88451443569554\n"
     ]
    }
   ],
   "source": [
    "from sklearn.linear_model import LogisticRegression\n",
    "\n",
    "lr = LogisticRegression(max_iter=56)\n",
    "lr.fit(X_train,y_train)\n",
    "y_predLR = lr.predict(X_test)\n",
    "\n",
    "acc_lrTrain = lr.score(X_train,y_train) * 100\n",
    "acc_lrTest = accuracy_score(y_predLR, y_test) * 100\n",
    "print(\"Training Accuracy: \", acc_lrTrain)\n",
    "print(\"Validation Accuracy: \", acc_lrTest)"
   ]
  },
  {
   "cell_type": "code",
   "execution_count": 30,
   "id": "059d55de",
   "metadata": {},
   "outputs": [
    {
     "name": "stdout",
     "output_type": "stream",
     "text": [
      "              precision    recall  f1-score   support\n",
      "\n",
      "           0       0.68      0.72      0.70       179\n",
      "           1       0.69      0.63      0.66       199\n",
      "           2       0.83      0.75      0.79       181\n",
      "           3       0.76      0.85      0.80       203\n",
      "\n",
      "    accuracy                           0.74       762\n",
      "   macro avg       0.74      0.74      0.74       762\n",
      "weighted avg       0.74      0.74      0.74       762\n",
      "\n"
     ]
    }
   ],
   "source": [
    "print(classification_report(y_test,y_predLR))"
   ]
  },
  {
   "cell_type": "code",
   "execution_count": 31,
   "id": "c4e2a603",
   "metadata": {},
   "outputs": [
    {
     "data": {
      "image/png": "[encoded data removed]",
      "text/plain": [
       "<Figure size 640x480 with 2 Axes>"
      ]
     },
     "metadata": {},
     "output_type": "display_data"
    }
   ],
   "source": [
    "conf_matrix_LR = plot_confusion_matrix(lr, X_test, y_test)"
   ]
  },
  {
   "cell_type": "code",
   "execution_count": null,
   "id": "55474b74",
   "metadata": {},
   "outputs": [],
   "source": []
  }
 ],
 "metadata": {
  "kernelspec": {
   "display_name": "Python 3 (ipykernel)",
   "language": "python",
   "name": "python3"
  },
  "language_info": {
   "codemirror_mode": {
    "name": "ipython",
    "version": 3
   },
   "file_extension": ".py",
   "mimetype": "text/x-python",
   "name": "python",
   "nbconvert_exporter": "python",
   "pygments_lexer": "ipython3",
   "version": "3.9.15"
  }
 },
 "nbformat": 4,
 "nbformat_minor": 5
}
