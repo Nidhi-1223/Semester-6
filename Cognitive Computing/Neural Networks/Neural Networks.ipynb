{
 "cells": [
  {
   "cell_type": "markdown",
   "id": "311b44e8",
   "metadata": {},
   "source": [
    "# Sales Prediction on the basis of advertisement source."
   ]
  },
  {
   "cell_type": "markdown",
   "id": "22f79700",
   "metadata": {},
   "source": [
    "## Importing the libraries"
   ]
  },
  {
   "cell_type": "code",
   "execution_count": 1,
   "id": "dacfaf83",
   "metadata": {},
   "outputs": [],
   "source": [
    "import numpy as np\n",
    "import pandas as pd\n",
    "import matplotlib.pyplot as plt\n",
    "import seaborn as sns\n",
    "import tensorflow as tf"
   ]
  },
  {
   "cell_type": "code",
   "execution_count": 2,
   "id": "04cb044a",
   "metadata": {},
   "outputs": [],
   "source": [
    "import warnings\n",
    "warnings.filterwarnings('ignore')"
   ]
  },
  {
   "cell_type": "markdown",
   "id": "b63a7c49",
   "metadata": {},
   "source": [
    "## Importing the dataset"
   ]
  },
  {
   "cell_type": "code",
   "execution_count": 3,
   "id": "5c9ac95a",
   "metadata": {},
   "outputs": [],
   "source": [
    "df = pd.read_csv(\"Advertising.csv\")"
   ]
  },
  {
   "cell_type": "code",
   "execution_count": 4,
   "id": "35b3eb78",
   "metadata": {},
   "outputs": [
    {
     "data": {
      "text/html": [
       "<div>\n",
       "<style scoped>\n",
       "    .dataframe tbody tr th:only-of-type {\n",
       "        vertical-align: middle;\n",
       "    }\n",
       "\n",
       "    .dataframe tbody tr th {\n",
       "        vertical-align: top;\n",
       "    }\n",
       "\n",
       "    .dataframe thead th {\n",
       "        text-align: right;\n",
       "    }\n",
       "</style>\n",
       "<table border=\"1\" class=\"dataframe\">\n",
       "  <thead>\n",
       "    <tr style=\"text-align: right;\">\n",
       "      <th></th>\n",
       "      <th>TV</th>\n",
       "      <th>radio</th>\n",
       "      <th>newspaper</th>\n",
       "      <th>sales</th>\n",
       "    </tr>\n",
       "  </thead>\n",
       "  <tbody>\n",
       "    <tr>\n",
       "      <th>0</th>\n",
       "      <td>230.1</td>\n",
       "      <td>37.8</td>\n",
       "      <td>69.2</td>\n",
       "      <td>22.1</td>\n",
       "    </tr>\n",
       "    <tr>\n",
       "      <th>1</th>\n",
       "      <td>44.5</td>\n",
       "      <td>39.3</td>\n",
       "      <td>45.1</td>\n",
       "      <td>10.4</td>\n",
       "    </tr>\n",
       "    <tr>\n",
       "      <th>2</th>\n",
       "      <td>17.2</td>\n",
       "      <td>45.9</td>\n",
       "      <td>69.3</td>\n",
       "      <td>9.3</td>\n",
       "    </tr>\n",
       "    <tr>\n",
       "      <th>3</th>\n",
       "      <td>151.5</td>\n",
       "      <td>41.3</td>\n",
       "      <td>58.5</td>\n",
       "      <td>18.5</td>\n",
       "    </tr>\n",
       "    <tr>\n",
       "      <th>4</th>\n",
       "      <td>180.8</td>\n",
       "      <td>10.8</td>\n",
       "      <td>58.4</td>\n",
       "      <td>12.9</td>\n",
       "    </tr>\n",
       "  </tbody>\n",
       "</table>\n",
       "</div>"
      ],
      "text/plain": [
       "      TV  radio  newspaper  sales\n",
       "0  230.1   37.8       69.2   22.1\n",
       "1   44.5   39.3       45.1   10.4\n",
       "2   17.2   45.9       69.3    9.3\n",
       "3  151.5   41.3       58.5   18.5\n",
       "4  180.8   10.8       58.4   12.9"
      ]
     },
     "execution_count": 4,
     "metadata": {},
     "output_type": "execute_result"
    }
   ],
   "source": [
    "df.head()"
   ]
  },
  {
   "cell_type": "markdown",
   "id": "4c053809",
   "metadata": {},
   "source": [
    "## Data Analysis"
   ]
  },
  {
   "cell_type": "code",
   "execution_count": 5,
   "id": "d2ca478f",
   "metadata": {},
   "outputs": [
    {
     "name": "stdout",
     "output_type": "stream",
     "text": [
      "<class 'pandas.core.frame.DataFrame'>\n",
      "RangeIndex: 200 entries, 0 to 199\n",
      "Data columns (total 4 columns):\n",
      " #   Column     Non-Null Count  Dtype  \n",
      "---  ------     --------------  -----  \n",
      " 0   TV         200 non-null    float64\n",
      " 1   radio      200 non-null    float64\n",
      " 2   newspaper  200 non-null    float64\n",
      " 3   sales      200 non-null    float64\n",
      "dtypes: float64(4)\n",
      "memory usage: 6.4 KB\n"
     ]
    }
   ],
   "source": [
    "df.info()"
   ]
  },
  {
   "cell_type": "code",
   "execution_count": 6,
   "id": "b6cb7ab8",
   "metadata": {},
   "outputs": [
    {
     "data": {
      "text/plain": [
       "TV           0\n",
       "radio        0\n",
       "newspaper    0\n",
       "sales        0\n",
       "dtype: int64"
      ]
     },
     "execution_count": 6,
     "metadata": {},
     "output_type": "execute_result"
    }
   ],
   "source": [
    "df.isnull().sum()"
   ]
  },
  {
   "cell_type": "code",
   "execution_count": 7,
   "id": "12a674d5",
   "metadata": {},
   "outputs": [
    {
     "data": {
      "text/plain": [
       "0"
      ]
     },
     "execution_count": 7,
     "metadata": {},
     "output_type": "execute_result"
    }
   ],
   "source": [
    "df.duplicated().sum()"
   ]
  },
  {
   "cell_type": "code",
   "execution_count": 8,
   "id": "3c4fa34b",
   "metadata": {},
   "outputs": [
    {
     "data": {
      "text/html": [
       "<div>\n",
       "<style scoped>\n",
       "    .dataframe tbody tr th:only-of-type {\n",
       "        vertical-align: middle;\n",
       "    }\n",
       "\n",
       "    .dataframe tbody tr th {\n",
       "        vertical-align: top;\n",
       "    }\n",
       "\n",
       "    .dataframe thead th {\n",
       "        text-align: right;\n",
       "    }\n",
       "</style>\n",
       "<table border=\"1\" class=\"dataframe\">\n",
       "  <thead>\n",
       "    <tr style=\"text-align: right;\">\n",
       "      <th></th>\n",
       "      <th>TV</th>\n",
       "      <th>radio</th>\n",
       "      <th>newspaper</th>\n",
       "      <th>sales</th>\n",
       "    </tr>\n",
       "  </thead>\n",
       "  <tbody>\n",
       "    <tr>\n",
       "      <th>count</th>\n",
       "      <td>200.000000</td>\n",
       "      <td>200.000000</td>\n",
       "      <td>200.000000</td>\n",
       "      <td>200.000000</td>\n",
       "    </tr>\n",
       "    <tr>\n",
       "      <th>mean</th>\n",
       "      <td>147.042500</td>\n",
       "      <td>23.264000</td>\n",
       "      <td>30.554000</td>\n",
       "      <td>14.022500</td>\n",
       "    </tr>\n",
       "    <tr>\n",
       "      <th>std</th>\n",
       "      <td>85.854236</td>\n",
       "      <td>14.846809</td>\n",
       "      <td>21.778621</td>\n",
       "      <td>5.217457</td>\n",
       "    </tr>\n",
       "    <tr>\n",
       "      <th>min</th>\n",
       "      <td>0.700000</td>\n",
       "      <td>0.000000</td>\n",
       "      <td>0.300000</td>\n",
       "      <td>1.600000</td>\n",
       "    </tr>\n",
       "    <tr>\n",
       "      <th>25%</th>\n",
       "      <td>74.375000</td>\n",
       "      <td>9.975000</td>\n",
       "      <td>12.750000</td>\n",
       "      <td>10.375000</td>\n",
       "    </tr>\n",
       "    <tr>\n",
       "      <th>50%</th>\n",
       "      <td>149.750000</td>\n",
       "      <td>22.900000</td>\n",
       "      <td>25.750000</td>\n",
       "      <td>12.900000</td>\n",
       "    </tr>\n",
       "    <tr>\n",
       "      <th>75%</th>\n",
       "      <td>218.825000</td>\n",
       "      <td>36.525000</td>\n",
       "      <td>45.100000</td>\n",
       "      <td>17.400000</td>\n",
       "    </tr>\n",
       "    <tr>\n",
       "      <th>max</th>\n",
       "      <td>296.400000</td>\n",
       "      <td>49.600000</td>\n",
       "      <td>114.000000</td>\n",
       "      <td>27.000000</td>\n",
       "    </tr>\n",
       "  </tbody>\n",
       "</table>\n",
       "</div>"
      ],
      "text/plain": [
       "               TV       radio   newspaper       sales\n",
       "count  200.000000  200.000000  200.000000  200.000000\n",
       "mean   147.042500   23.264000   30.554000   14.022500\n",
       "std     85.854236   14.846809   21.778621    5.217457\n",
       "min      0.700000    0.000000    0.300000    1.600000\n",
       "25%     74.375000    9.975000   12.750000   10.375000\n",
       "50%    149.750000   22.900000   25.750000   12.900000\n",
       "75%    218.825000   36.525000   45.100000   17.400000\n",
       "max    296.400000   49.600000  114.000000   27.000000"
      ]
     },
     "execution_count": 8,
     "metadata": {},
     "output_type": "execute_result"
    }
   ],
   "source": [
    "df.describe()"
   ]
  },
  {
   "cell_type": "code",
   "execution_count": 9,
   "id": "575990b4",
   "metadata": {},
   "outputs": [
    {
     "data": {
      "text/plain": [
       "<AxesSubplot:>"
      ]
     },
     "execution_count": 9,
     "metadata": {},
     "output_type": "execute_result"
    },
    {
     "data": {
      "image/png": "[encoded data removed]",
      "text/plain": [
       "<Figure size 640x480 with 2 Axes>"
      ]
     },
     "metadata": {},
     "output_type": "display_data"
    }
   ],
   "source": [
    "sns.heatmap(df.corr(), annot=True)"
   ]
  },
  {
   "cell_type": "code",
   "execution_count": 10,
   "id": "ae310ff0",
   "metadata": {},
   "outputs": [
    {
     "data": {
      "text/plain": [
       "<seaborn.axisgrid.PairGrid at 0x2ceccbf4640>"
      ]
     },
     "execution_count": 10,
     "metadata": {},
     "output_type": "execute_result"
    },
    {
     "data": {
      "image/png": "[encoded data removed]",
      "text/plain": [
       "<Figure size 750x250 with 3 Axes>"
      ]
     },
     "metadata": {},
     "output_type": "display_data"
    }
   ],
   "source": [
    "sns.pairplot(df, x_vars=['TV', 'radio', 'newspaper'], y_vars='sales' ,kind='reg')"
   ]
  },
  {
   "cell_type": "markdown",
   "id": "74375334",
   "metadata": {},
   "source": [
    "## Encoding of Independent & Dependent Data"
   ]
  },
  {
   "cell_type": "code",
   "execution_count": 11,
   "id": "6e16cef1",
   "metadata": {},
   "outputs": [],
   "source": [
    "X = df.drop(['sales'], axis = 1)\n",
    "y = df['sales']"
   ]
  },
  {
   "cell_type": "code",
   "execution_count": 12,
   "id": "177efb0d",
   "metadata": {},
   "outputs": [
    {
     "data": {
      "text/html": [
       "<div>\n",
       "<style scoped>\n",
       "    .dataframe tbody tr th:only-of-type {\n",
       "        vertical-align: middle;\n",
       "    }\n",
       "\n",
       "    .dataframe tbody tr th {\n",
       "        vertical-align: top;\n",
       "    }\n",
       "\n",
       "    .dataframe thead th {\n",
       "        text-align: right;\n",
       "    }\n",
       "</style>\n",
       "<table border=\"1\" class=\"dataframe\">\n",
       "  <thead>\n",
       "    <tr style=\"text-align: right;\">\n",
       "      <th></th>\n",
       "      <th>TV</th>\n",
       "      <th>radio</th>\n",
       "      <th>newspaper</th>\n",
       "    </tr>\n",
       "  </thead>\n",
       "  <tbody>\n",
       "    <tr>\n",
       "      <th>0</th>\n",
       "      <td>230.1</td>\n",
       "      <td>37.8</td>\n",
       "      <td>69.2</td>\n",
       "    </tr>\n",
       "    <tr>\n",
       "      <th>1</th>\n",
       "      <td>44.5</td>\n",
       "      <td>39.3</td>\n",
       "      <td>45.1</td>\n",
       "    </tr>\n",
       "    <tr>\n",
       "      <th>2</th>\n",
       "      <td>17.2</td>\n",
       "      <td>45.9</td>\n",
       "      <td>69.3</td>\n",
       "    </tr>\n",
       "    <tr>\n",
       "      <th>3</th>\n",
       "      <td>151.5</td>\n",
       "      <td>41.3</td>\n",
       "      <td>58.5</td>\n",
       "    </tr>\n",
       "    <tr>\n",
       "      <th>4</th>\n",
       "      <td>180.8</td>\n",
       "      <td>10.8</td>\n",
       "      <td>58.4</td>\n",
       "    </tr>\n",
       "    <tr>\n",
       "      <th>...</th>\n",
       "      <td>...</td>\n",
       "      <td>...</td>\n",
       "      <td>...</td>\n",
       "    </tr>\n",
       "    <tr>\n",
       "      <th>195</th>\n",
       "      <td>38.2</td>\n",
       "      <td>3.7</td>\n",
       "      <td>13.8</td>\n",
       "    </tr>\n",
       "    <tr>\n",
       "      <th>196</th>\n",
       "      <td>94.2</td>\n",
       "      <td>4.9</td>\n",
       "      <td>8.1</td>\n",
       "    </tr>\n",
       "    <tr>\n",
       "      <th>197</th>\n",
       "      <td>177.0</td>\n",
       "      <td>9.3</td>\n",
       "      <td>6.4</td>\n",
       "    </tr>\n",
       "    <tr>\n",
       "      <th>198</th>\n",
       "      <td>283.6</td>\n",
       "      <td>42.0</td>\n",
       "      <td>66.2</td>\n",
       "    </tr>\n",
       "    <tr>\n",
       "      <th>199</th>\n",
       "      <td>232.1</td>\n",
       "      <td>8.6</td>\n",
       "      <td>8.7</td>\n",
       "    </tr>\n",
       "  </tbody>\n",
       "</table>\n",
       "<p>200 rows × 3 columns</p>\n",
       "</div>"
      ],
      "text/plain": [
       "        TV  radio  newspaper\n",
       "0    230.1   37.8       69.2\n",
       "1     44.5   39.3       45.1\n",
       "2     17.2   45.9       69.3\n",
       "3    151.5   41.3       58.5\n",
       "4    180.8   10.8       58.4\n",
       "..     ...    ...        ...\n",
       "195   38.2    3.7       13.8\n",
       "196   94.2    4.9        8.1\n",
       "197  177.0    9.3        6.4\n",
       "198  283.6   42.0       66.2\n",
       "199  232.1    8.6        8.7\n",
       "\n",
       "[200 rows x 3 columns]"
      ]
     },
     "execution_count": 12,
     "metadata": {},
     "output_type": "execute_result"
    }
   ],
   "source": [
    "X"
   ]
  },
  {
   "cell_type": "code",
   "execution_count": 13,
   "id": "c4a76f8f",
   "metadata": {},
   "outputs": [
    {
     "data": {
      "text/plain": [
       "0      22.1\n",
       "1      10.4\n",
       "2       9.3\n",
       "3      18.5\n",
       "4      12.9\n",
       "       ... \n",
       "195     7.6\n",
       "196     9.7\n",
       "197    12.8\n",
       "198    25.5\n",
       "199    13.4\n",
       "Name: sales, Length: 200, dtype: float64"
      ]
     },
     "execution_count": 13,
     "metadata": {},
     "output_type": "execute_result"
    }
   ],
   "source": [
    "y"
   ]
  },
  {
   "cell_type": "markdown",
   "id": "ed3ebcc0",
   "metadata": {},
   "source": [
    "## Splitting the dataset into the Training set and Test set"
   ]
  },
  {
   "cell_type": "code",
   "execution_count": 14,
   "id": "eb201cc1",
   "metadata": {},
   "outputs": [],
   "source": [
    "from sklearn.model_selection import train_test_split\n",
    "X_train, X_test, y_train, y_test = train_test_split(X, y, test_size=0.25, random_state=101)"
   ]
  },
  {
   "cell_type": "code",
   "execution_count": 15,
   "id": "7bb5f2d4",
   "metadata": {},
   "outputs": [
    {
     "data": {
      "text/plain": [
       "((150, 3), (150,), (50, 3), (50,))"
      ]
     },
     "execution_count": 15,
     "metadata": {},
     "output_type": "execute_result"
    }
   ],
   "source": [
    "X_train.shape, y_train.shape, X_test.shape, y_test.shape"
   ]
  },
  {
   "cell_type": "markdown",
   "id": "ec8e10ff",
   "metadata": {},
   "source": [
    "## ANN Model"
   ]
  },
  {
   "cell_type": "code",
   "execution_count": 16,
   "id": "f217fc96",
   "metadata": {},
   "outputs": [],
   "source": [
    "from sklearn.metrics import mean_absolute_error, mean_squared_error"
   ]
  },
  {
   "cell_type": "code",
   "execution_count": 17,
   "id": "d5772268",
   "metadata": {},
   "outputs": [],
   "source": [
    "from tensorflow.keras.models import Sequential\n",
    "from tensorflow.keras.layers import Dense\n",
    "\n",
    "no_features_columns = len(X_train.keys())\n",
    "no_target_columns = 1\n",
    "\n",
    "tf.random.set_seed(101)\n",
    "annModel = Sequential([\n",
    "    Dense(32, activation='relu', input_shape=[no_features_columns]),\n",
    "    Dense(16, activation='relu'),\n",
    "    Dense(no_target_columns)\n",
    "])"
   ]
  },
  {
   "cell_type": "code",
   "execution_count": 18,
   "id": "b009e4b6",
   "metadata": {},
   "outputs": [],
   "source": [
    "annModel.compile(\n",
    "    optimizer = 'RMSprop',\n",
    "    loss = 'mean_squared_error',\n",
    "    metrics=['mean_squared_error']\n",
    ")"
   ]
  },
  {
   "cell_type": "code",
   "execution_count": 19,
   "id": "f32b86a5",
   "metadata": {},
   "outputs": [
    {
     "name": "stdout",
     "output_type": "stream",
     "text": [
      "Model: \"sequential\"\n",
      "_________________________________________________________________\n",
      " Layer (type)                Output Shape              Param #   \n",
      "=================================================================\n",
      " dense (Dense)               (None, 32)                128       \n",
      "                                                                 \n",
      " dense_1 (Dense)             (None, 16)                528       \n",
      "                                                                 \n",
      " dense_2 (Dense)             (None, 1)                 17        \n",
      "                                                                 \n",
      "=================================================================\n",
      "Total params: 673\n",
      "Trainable params: 673\n",
      "Non-trainable params: 0\n",
      "_________________________________________________________________\n"
     ]
    }
   ],
   "source": [
    "annModel.summary()"
   ]
  },
  {
   "cell_type": "code",
   "execution_count": 20,
   "id": "e2134e13",
   "metadata": {},
   "outputs": [
    {
     "name": "stdout",
     "output_type": "stream",
     "text": [
      "Epoch 1/100\n",
      "15/15 [==============================] - 1s 1ms/step - loss: 249.5348 - mean_squared_error: 249.5348\n",
      "Epoch 2/100\n",
      "15/15 [==============================] - 0s 1ms/step - loss: 46.4125 - mean_squared_error: 46.4125\n",
      "Epoch 3/100\n",
      "15/15 [==============================] - 0s 1ms/step - loss: 29.6298 - mean_squared_error: 29.6298\n",
      "Epoch 4/100\n",
      "15/15 [==============================] - 0s 1ms/step - loss: 19.3878 - mean_squared_error: 19.3878\n",
      "Epoch 5/100\n",
      "15/15 [==============================] - 0s 1ms/step - loss: 13.0144 - mean_squared_error: 13.0144\n",
      "Epoch 6/100\n",
      "15/15 [==============================] - 0s 1ms/step - loss: 9.0099 - mean_squared_error: 9.0099\n",
      "Epoch 7/100\n",
      "15/15 [==============================] - 0s 1ms/step - loss: 6.9182 - mean_squared_error: 6.9182\n",
      "Epoch 8/100\n",
      "15/15 [==============================] - 0s 2ms/step - loss: 6.2797 - mean_squared_error: 6.2797\n",
      "Epoch 9/100\n",
      "15/15 [==============================] - 0s 1ms/step - loss: 4.6489 - mean_squared_error: 4.6489\n",
      "Epoch 10/100\n",
      "15/15 [==============================] - 0s 1ms/step - loss: 4.4125 - mean_squared_error: 4.4125\n",
      "Epoch 11/100\n",
      "15/15 [==============================] - 0s 1ms/step - loss: 4.7645 - mean_squared_error: 4.7645\n",
      "Epoch 12/100\n",
      "15/15 [==============================] - 0s 1ms/step - loss: 4.0279 - mean_squared_error: 4.0279\n",
      "Epoch 13/100\n",
      "15/15 [==============================] - 0s 2ms/step - loss: 4.2611 - mean_squared_error: 4.2611\n",
      "Epoch 14/100\n",
      "15/15 [==============================] - 0s 1ms/step - loss: 3.8014 - mean_squared_error: 3.8014\n",
      "Epoch 15/100\n",
      "15/15 [==============================] - 0s 3ms/step - loss: 3.6830 - mean_squared_error: 3.6830\n",
      "Epoch 16/100\n",
      "15/15 [==============================] - 0s 1ms/step - loss: 3.8178 - mean_squared_error: 3.8178\n",
      "Epoch 17/100\n",
      "15/15 [==============================] - 0s 1ms/step - loss: 4.0233 - mean_squared_error: 4.0233\n",
      "Epoch 18/100\n",
      "15/15 [==============================] - 0s 1ms/step - loss: 3.5366 - mean_squared_error: 3.5366\n",
      "Epoch 19/100\n",
      "15/15 [==============================] - 0s 1ms/step - loss: 3.5029 - mean_squared_error: 3.5029\n",
      "Epoch 20/100\n",
      "15/15 [==============================] - 0s 2ms/step - loss: 3.1900 - mean_squared_error: 3.1900\n",
      "Epoch 21/100\n",
      "15/15 [==============================] - 0s 1ms/step - loss: 4.5667 - mean_squared_error: 4.5667\n",
      "Epoch 22/100\n",
      "15/15 [==============================] - 0s 1ms/step - loss: 2.6869 - mean_squared_error: 2.6869\n",
      "Epoch 23/100\n",
      "15/15 [==============================] - 0s 1ms/step - loss: 3.6778 - mean_squared_error: 3.6778\n",
      "Epoch 24/100\n",
      "15/15 [==============================] - 0s 1ms/step - loss: 2.6097 - mean_squared_error: 2.6097\n",
      "Epoch 25/100\n",
      "15/15 [==============================] - 0s 1ms/step - loss: 4.1115 - mean_squared_error: 4.1115\n",
      "Epoch 26/100\n",
      "15/15 [==============================] - 0s 1ms/step - loss: 3.5761 - mean_squared_error: 3.5761\n",
      "Epoch 27/100\n",
      "15/15 [==============================] - 0s 1ms/step - loss: 3.0886 - mean_squared_error: 3.0886\n",
      "Epoch 28/100\n",
      "15/15 [==============================] - 0s 1ms/step - loss: 3.2397 - mean_squared_error: 3.2397\n",
      "Epoch 29/100\n",
      "15/15 [==============================] - 0s 1ms/step - loss: 2.7730 - mean_squared_error: 2.7730\n",
      "Epoch 30/100\n",
      "15/15 [==============================] - 0s 1ms/step - loss: 3.4179 - mean_squared_error: 3.4179\n",
      "Epoch 31/100\n",
      "15/15 [==============================] - 0s 1ms/step - loss: 2.5642 - mean_squared_error: 2.5642\n",
      "Epoch 32/100\n",
      "15/15 [==============================] - 0s 1ms/step - loss: 3.5271 - mean_squared_error: 3.5271\n",
      "Epoch 33/100\n",
      "15/15 [==============================] - 0s 1ms/step - loss: 2.6768 - mean_squared_error: 2.6768\n",
      "Epoch 34/100\n",
      "15/15 [==============================] - 0s 1ms/step - loss: 3.0342 - mean_squared_error: 3.0342\n",
      "Epoch 35/100\n",
      "15/15 [==============================] - 0s 2ms/step - loss: 3.0342 - mean_squared_error: 3.0342\n",
      "Epoch 36/100\n",
      "15/15 [==============================] - 0s 1ms/step - loss: 2.9250 - mean_squared_error: 2.9250\n",
      "Epoch 37/100\n",
      "15/15 [==============================] - 0s 1ms/step - loss: 2.8862 - mean_squared_error: 2.8862\n",
      "Epoch 38/100\n",
      "15/15 [==============================] - 0s 1ms/step - loss: 2.8365 - mean_squared_error: 2.8365\n",
      "Epoch 39/100\n",
      "15/15 [==============================] - 0s 1ms/step - loss: 3.4565 - mean_squared_error: 3.4565\n",
      "Epoch 40/100\n",
      "15/15 [==============================] - 0s 1ms/step - loss: 2.3683 - mean_squared_error: 2.3683\n",
      "Epoch 41/100\n",
      "15/15 [==============================] - 0s 1ms/step - loss: 2.6500 - mean_squared_error: 2.6500\n",
      "Epoch 42/100\n",
      "15/15 [==============================] - 0s 1ms/step - loss: 3.4616 - mean_squared_error: 3.4616\n",
      "Epoch 43/100\n",
      "15/15 [==============================] - 0s 1ms/step - loss: 1.9736 - mean_squared_error: 1.9736\n",
      "Epoch 44/100\n",
      "15/15 [==============================] - 0s 1ms/step - loss: 2.8186 - mean_squared_error: 2.8186\n",
      "Epoch 45/100\n",
      "15/15 [==============================] - 0s 1ms/step - loss: 2.5979 - mean_squared_error: 2.5979\n",
      "Epoch 46/100\n",
      "15/15 [==============================] - 0s 1ms/step - loss: 2.8440 - mean_squared_error: 2.8440\n",
      "Epoch 47/100\n",
      "15/15 [==============================] - 0s 1ms/step - loss: 3.0060 - mean_squared_error: 3.0060\n",
      "Epoch 48/100\n",
      "15/15 [==============================] - 0s 1ms/step - loss: 2.6379 - mean_squared_error: 2.6379\n",
      "Epoch 49/100\n",
      "15/15 [==============================] - 0s 1ms/step - loss: 3.3200 - mean_squared_error: 3.3200\n",
      "Epoch 50/100\n",
      "15/15 [==============================] - 0s 1ms/step - loss: 1.8362 - mean_squared_error: 1.8362\n",
      "Epoch 51/100\n",
      "15/15 [==============================] - 0s 1ms/step - loss: 2.6333 - mean_squared_error: 2.6333\n",
      "Epoch 52/100\n",
      "15/15 [==============================] - 0s 1ms/step - loss: 2.3308 - mean_squared_error: 2.3308\n",
      "Epoch 53/100\n",
      "15/15 [==============================] - 0s 1ms/step - loss: 2.4040 - mean_squared_error: 2.4040\n",
      "Epoch 54/100\n",
      "15/15 [==============================] - 0s 1ms/step - loss: 2.2793 - mean_squared_error: 2.2793\n",
      "Epoch 55/100\n",
      "15/15 [==============================] - 0s 1ms/step - loss: 3.1241 - mean_squared_error: 3.1241\n",
      "Epoch 56/100\n",
      "15/15 [==============================] - 0s 1ms/step - loss: 2.6024 - mean_squared_error: 2.6024\n",
      "Epoch 57/100\n",
      "15/15 [==============================] - 0s 1ms/step - loss: 2.6416 - mean_squared_error: 2.6416\n",
      "Epoch 58/100\n",
      "15/15 [==============================] - 0s 1ms/step - loss: 1.9454 - mean_squared_error: 1.9454\n",
      "Epoch 59/100\n",
      "15/15 [==============================] - 0s 1ms/step - loss: 2.3978 - mean_squared_error: 2.3978\n",
      "Epoch 60/100\n",
      "15/15 [==============================] - 0s 1ms/step - loss: 2.6186 - mean_squared_error: 2.6186\n",
      "Epoch 61/100\n",
      "15/15 [==============================] - 0s 1ms/step - loss: 2.2513 - mean_squared_error: 2.2513\n",
      "Epoch 62/100\n",
      "15/15 [==============================] - 0s 1ms/step - loss: 2.7390 - mean_squared_error: 2.7390\n",
      "Epoch 63/100\n",
      "15/15 [==============================] - 0s 1ms/step - loss: 2.0392 - mean_squared_error: 2.0392\n",
      "Epoch 64/100\n",
      "15/15 [==============================] - 0s 1ms/step - loss: 2.1655 - mean_squared_error: 2.1655\n",
      "Epoch 65/100\n",
      "15/15 [==============================] - 0s 1ms/step - loss: 2.7634 - mean_squared_error: 2.7634\n",
      "Epoch 66/100\n",
      "15/15 [==============================] - 0s 1ms/step - loss: 2.5793 - mean_squared_error: 2.5793\n",
      "Epoch 67/100\n",
      "15/15 [==============================] - 0s 1ms/step - loss: 1.7786 - mean_squared_error: 1.7786\n",
      "Epoch 68/100\n",
      "15/15 [==============================] - 0s 1ms/step - loss: 2.8037 - mean_squared_error: 2.8037\n",
      "Epoch 69/100\n",
      "15/15 [==============================] - 0s 1ms/step - loss: 2.1524 - mean_squared_error: 2.1524\n",
      "Epoch 70/100\n",
      "15/15 [==============================] - 0s 2ms/step - loss: 1.8920 - mean_squared_error: 1.8920\n",
      "Epoch 71/100\n",
      "15/15 [==============================] - 0s 1ms/step - loss: 2.8102 - mean_squared_error: 2.8102\n",
      "Epoch 72/100\n",
      "15/15 [==============================] - 0s 1ms/step - loss: 1.9968 - mean_squared_error: 1.9968\n",
      "Epoch 73/100\n",
      "15/15 [==============================] - 0s 1ms/step - loss: 2.5444 - mean_squared_error: 2.5444\n",
      "Epoch 74/100\n",
      "15/15 [==============================] - 0s 1ms/step - loss: 2.0290 - mean_squared_error: 2.0290\n",
      "Epoch 75/100\n"
     ]
    },
    {
     "name": "stdout",
     "output_type": "stream",
     "text": [
      "15/15 [==============================] - 0s 1ms/step - loss: 2.2611 - mean_squared_error: 2.2611\n",
      "Epoch 76/100\n",
      "15/15 [==============================] - 0s 1ms/step - loss: 2.2767 - mean_squared_error: 2.2767\n",
      "Epoch 77/100\n",
      "15/15 [==============================] - 0s 1ms/step - loss: 1.6353 - mean_squared_error: 1.6353\n",
      "Epoch 78/100\n",
      "15/15 [==============================] - 0s 1ms/step - loss: 2.3735 - mean_squared_error: 2.3735\n",
      "Epoch 79/100\n",
      "15/15 [==============================] - 0s 1ms/step - loss: 2.0278 - mean_squared_error: 2.0278\n",
      "Epoch 80/100\n",
      "15/15 [==============================] - 0s 1ms/step - loss: 1.9266 - mean_squared_error: 1.9266\n",
      "Epoch 81/100\n",
      "15/15 [==============================] - 0s 1ms/step - loss: 2.2793 - mean_squared_error: 2.2793\n",
      "Epoch 82/100\n",
      "15/15 [==============================] - 0s 1ms/step - loss: 2.1406 - mean_squared_error: 2.1406\n",
      "Epoch 83/100\n",
      "15/15 [==============================] - 0s 1ms/step - loss: 2.0442 - mean_squared_error: 2.0442\n",
      "Epoch 84/100\n",
      "15/15 [==============================] - 0s 1ms/step - loss: 1.9526 - mean_squared_error: 1.9526\n",
      "Epoch 85/100\n",
      "15/15 [==============================] - 0s 1ms/step - loss: 1.8184 - mean_squared_error: 1.8184\n",
      "Epoch 86/100\n",
      "15/15 [==============================] - 0s 1ms/step - loss: 2.1523 - mean_squared_error: 2.1523\n",
      "Epoch 87/100\n",
      "15/15 [==============================] - 0s 1ms/step - loss: 1.9564 - mean_squared_error: 1.9564\n",
      "Epoch 88/100\n",
      "15/15 [==============================] - 0s 1ms/step - loss: 2.1267 - mean_squared_error: 2.1267\n",
      "Epoch 89/100\n",
      "15/15 [==============================] - 0s 1ms/step - loss: 2.4839 - mean_squared_error: 2.4839\n",
      "Epoch 90/100\n",
      "15/15 [==============================] - 0s 2ms/step - loss: 1.8117 - mean_squared_error: 1.8117\n",
      "Epoch 91/100\n",
      "15/15 [==============================] - 0s 1ms/step - loss: 2.1023 - mean_squared_error: 2.1023\n",
      "Epoch 92/100\n",
      "15/15 [==============================] - 0s 1ms/step - loss: 2.2430 - mean_squared_error: 2.2430\n",
      "Epoch 93/100\n",
      "15/15 [==============================] - 0s 1ms/step - loss: 1.3871 - mean_squared_error: 1.3871\n",
      "Epoch 94/100\n",
      "15/15 [==============================] - 0s 1ms/step - loss: 2.1430 - mean_squared_error: 2.1430\n",
      "Epoch 95/100\n",
      "15/15 [==============================] - 0s 1ms/step - loss: 1.8945 - mean_squared_error: 1.8945\n",
      "Epoch 96/100\n",
      "15/15 [==============================] - 0s 1ms/step - loss: 1.7871 - mean_squared_error: 1.7871\n",
      "Epoch 97/100\n",
      "15/15 [==============================] - 0s 1ms/step - loss: 1.7293 - mean_squared_error: 1.7293\n",
      "Epoch 98/100\n",
      "15/15 [==============================] - 0s 1ms/step - loss: 2.5953 - mean_squared_error: 2.5953\n",
      "Epoch 99/100\n",
      "15/15 [==============================] - 0s 1ms/step - loss: 1.4005 - mean_squared_error: 1.4005\n",
      "Epoch 100/100\n",
      "15/15 [==============================] - 0s 1ms/step - loss: 1.8347 - mean_squared_error: 1.8347\n"
     ]
    },
    {
     "data": {
      "text/plain": [
       "<keras.callbacks.History at 0x2cece428ee0>"
      ]
     },
     "execution_count": 20,
     "metadata": {},
     "output_type": "execute_result"
    }
   ],
   "source": [
    "annModel.fit(X_train, y_train, epochs=100, batch_size=10)"
   ]
  },
  {
   "cell_type": "code",
   "execution_count": 21,
   "id": "8c849d6d",
   "metadata": {},
   "outputs": [
    {
     "name": "stdout",
     "output_type": "stream",
     "text": [
      "2/2 [==============================] - 0s 3ms/step\n",
      "MAE: 1.09\n",
      "MSE: 2.48\n",
      "RMSE: 1.57\n"
     ]
    }
   ],
   "source": [
    "y_predNN = annModel.predict(X_test).flatten()\n",
    "\n",
    "MAE = mean_absolute_error(y_test, y_predNN)\n",
    "MSE = mean_squared_error(y_test, y_predNN)\n",
    "RMSE = np.sqrt(MSE)\n",
    "\n",
    "print(f\"MAE: {round(MAE, 2)}\")\n",
    "print(f\"MSE: {round(MSE, 2)}\")\n",
    "print(f\"RMSE: {round(RMSE, 2)}\")"
   ]
  },
  {
   "cell_type": "code",
   "execution_count": 22,
   "id": "d3f33c88",
   "metadata": {},
   "outputs": [
    {
     "data": {
      "text/html": [
       "<div>\n",
       "<style scoped>\n",
       "    .dataframe tbody tr th:only-of-type {\n",
       "        vertical-align: middle;\n",
       "    }\n",
       "\n",
       "    .dataframe tbody tr th {\n",
       "        vertical-align: top;\n",
       "    }\n",
       "\n",
       "    .dataframe thead th {\n",
       "        text-align: right;\n",
       "    }\n",
       "</style>\n",
       "<table border=\"1\" class=\"dataframe\">\n",
       "  <thead>\n",
       "    <tr style=\"text-align: right;\">\n",
       "      <th></th>\n",
       "      <th>Predicted Price</th>\n",
       "      <th>Actual Price</th>\n",
       "      <th>Difference</th>\n",
       "    </tr>\n",
       "  </thead>\n",
       "  <tbody>\n",
       "    <tr>\n",
       "      <th>37</th>\n",
       "      <td>14.685575</td>\n",
       "      <td>14.7</td>\n",
       "      <td>0.01</td>\n",
       "    </tr>\n",
       "    <tr>\n",
       "      <th>109</th>\n",
       "      <td>19.075115</td>\n",
       "      <td>19.8</td>\n",
       "      <td>0.72</td>\n",
       "    </tr>\n",
       "    <tr>\n",
       "      <th>31</th>\n",
       "      <td>11.403641</td>\n",
       "      <td>11.9</td>\n",
       "      <td>0.50</td>\n",
       "    </tr>\n",
       "    <tr>\n",
       "      <th>89</th>\n",
       "      <td>17.124409</td>\n",
       "      <td>16.7</td>\n",
       "      <td>-0.42</td>\n",
       "    </tr>\n",
       "    <tr>\n",
       "      <th>66</th>\n",
       "      <td>7.892449</td>\n",
       "      <td>9.5</td>\n",
       "      <td>1.61</td>\n",
       "    </tr>\n",
       "  </tbody>\n",
       "</table>\n",
       "</div>"
      ],
      "text/plain": [
       "     Predicted Price  Actual Price  Difference\n",
       "37         14.685575          14.7        0.01\n",
       "109        19.075115          19.8        0.72\n",
       "31         11.403641          11.9        0.50\n",
       "89         17.124409          16.7       -0.42\n",
       "66          7.892449           9.5        1.61"
      ]
     },
     "execution_count": 22,
     "metadata": {},
     "output_type": "execute_result"
    }
   ],
   "source": [
    "results_df = pd.DataFrame({'Predicted Price': y_predNN, 'Actual Price':y_test, 'Difference':round((y_test - y_predNN), 2)})\n",
    "results_df.head()"
   ]
  },
  {
   "cell_type": "code",
   "execution_count": null,
   "id": "320e2039",
   "metadata": {},
   "outputs": [],
   "source": []
  }
 ],
 "metadata": {
  "kernelspec": {
   "display_name": "Python 3 (ipykernel)",
   "language": "python",
   "name": "python3"
  },
  "language_info": {
   "codemirror_mode": {
    "name": "ipython",
    "version": 3
   },
   "file_extension": ".py",
   "mimetype": "text/x-python",
   "name": "python",
   "nbconvert_exporter": "python",
   "pygments_lexer": "ipython3",
   "version": "3.9.15"
  }
 },
 "nbformat": 4,
 "nbformat_minor": 5
}
